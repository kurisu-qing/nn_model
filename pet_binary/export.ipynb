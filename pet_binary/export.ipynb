{
 "cells": [
  {
   "cell_type": "markdown",
   "id": "a6ea87bb",
   "metadata": {},
   "source": [
    "## Infer"
   ]
  },
  {
   "cell_type": "code",
   "execution_count": 12,
   "id": "d77b4dc5-58bd-46b9-a011-6cffc180b4f5",
   "metadata": {},
   "outputs": [],
   "source": [
    "import torch\n",
    "import torch.nn as nn"
   ]
  },
  {
   "cell_type": "code",
   "execution_count": 13,
   "id": "c0c07f25",
   "metadata": {},
   "outputs": [],
   "source": [
    "class Net(nn.Module):\n",
    "    \"\"\"Network inference\n",
    "    \"\"\"\n",
    "    def __init__(self, path = 'test/epoch21-0.8867.pth'):\n",
    "        super().__init__()\n",
    "        self.i_proj = nn.Linear(8, 64, False)\n",
    "        self.alpha = nn.Parameter(torch.rand(1, 64))\n",
    "        self.h0 = nn.Parameter(torch.rand(1, 64))\n",
    "        self.o_proj = nn.Linear(64, 1, False)\n",
    "        self.act = nn.ReLU6()\n",
    "        self.load(path)\n",
    "\n",
    "    @torch.no_grad()\n",
    "    def load(self, path):\n",
    "        ckpt = torch.load(path)\n",
    "\n",
    "        self.i_proj.weight.copy_(ckpt['0.weight'])\n",
    "        self.alpha.copy_(ckpt['3.alpha'].squeeze(2).transpose(0, 1))\n",
    "        self.h0.copy_(ckpt['3.x0'] * (1 - self.alpha))\n",
    "        self.o_proj.weight.copy_(ckpt['6.weight'])\n",
    "\n",
    "    @torch.no_grad()\n",
    "    def forward(self, x, hx):\n",
    "        g = self.alpha\n",
    "        act = self.act\n",
    "        i = act(self.i_proj(x))\n",
    "        # h = g * hx + (1 - g) * i\n",
    "        h = i + g * (hx - i)\n",
    "        y = self.o_proj(act(h))\n",
    "        y = torch.sigmoid(y).squeeze(1)\n",
    "        return y, h\n"
   ]
  },
  {
   "cell_type": "code",
   "execution_count": 14,
   "id": "057eaebe",
   "metadata": {},
   "outputs": [
    {
     "data": {
      "text/plain": [
       "Net(\n",
       "  (i_proj): Linear(in_features=8, out_features=64, bias=False)\n",
       "  (o_proj): Linear(in_features=64, out_features=1, bias=False)\n",
       "  (act): ReLU6()\n",
       ")"
      ]
     },
     "execution_count": 14,
     "metadata": {},
     "output_type": "execute_result"
    }
   ],
   "source": [
    "net = Net()\n",
    "net.eval()"
   ]
  },
  {
   "cell_type": "code",
   "execution_count": 15,
   "id": "0c8e3cd2",
   "metadata": {},
   "outputs": [
    {
     "data": {
      "text/plain": [
       "tensor([0.9168])"
      ]
     },
     "execution_count": 15,
     "metadata": {},
     "output_type": "execute_result"
    }
   ],
   "source": [
    "x = torch.tensor(\n",
    "    [[4.882802, 0.4116477, 0.2582662, 1.1432298, 0.34995735, 0.15397726, 0.07350865, 0.]]\n",
    ")\n",
    "h = net.h0\n",
    "y, h = net(x, h)\n",
    "y"
   ]
  },
  {
   "cell_type": "code",
   "execution_count": 16,
   "id": "e70940a5",
   "metadata": {},
   "outputs": [
    {
     "data": {
      "text/plain": [
       "tensor([0.9293])"
      ]
     },
     "execution_count": 16,
     "metadata": {},
     "output_type": "execute_result"
    }
   ],
   "source": [
    "x = torch.tensor(\n",
    "    [[3.9512436 , 0.4121284 , 0.57202524, 0.9942352 , 0.38036877, 0.11640994, 0.07208236, 0.08725858]]\n",
    ")\n",
    "y, h = net(x, h)\n",
    "y"
   ]
  },
  {
   "cell_type": "markdown",
   "id": "6e0144a0",
   "metadata": {},
   "source": [
    "## ONNX"
   ]
  },
  {
   "cell_type": "code",
   "execution_count": 21,
   "id": "137d1cca",
   "metadata": {},
   "outputs": [],
   "source": [
    "import onnx\n",
    "import numpy as np\n",
    "import pandas as pd\n",
    "import onnxruntime as ort"
   ]
  },
  {
   "cell_type": "code",
   "execution_count": 22,
   "id": "7c3abd96",
   "metadata": {},
   "outputs": [],
   "source": [
    "x = torch.tensor(\n",
    "    [[4.882802, 0.4116477, 0.2582662, 1.1432298, 0.34995735, 0.15397726, 0.07350865, 0.]]\n",
    ")"
   ]
  },
  {
   "cell_type": "code",
   "execution_count": 23,
   "id": "2f7da4c8",
   "metadata": {},
   "outputs": [
    {
     "name": "stderr",
     "output_type": "stream",
     "text": [
      "C:\\Users\\pontosense\\AppData\\Local\\Temp\\ipykernel_28832\\4284259381.py:3: DeprecationWarning: You are using the legacy TorchScript-based ONNX export. Starting in PyTorch 2.9, the new torch.export-based ONNX exporter will be the default. To switch now, set dynamo=True in torch.onnx.export. This new exporter supports features like exporting LLMs with DynamicCache. We encourage you to try it and share feedback to help improve the experience. Learn more about the new export logic: https://pytorch.org/docs/stable/onnx_dynamo.html. For exporting control flow: https://pytorch.org/tutorials/beginner/onnx/export_control_flow_model_to_onnx_tutorial.html.\n",
      "  torch.onnx.export(\n"
     ]
    }
   ],
   "source": [
    "dummy = (x, net.h0)\n",
    "\n",
    "torch.onnx.export(\n",
    "    net,\n",
    "    dummy, 'test/model.onnx',\n",
    "    input_names=['input', 'hx'],\n",
    "    output_names=['output', 'h'],\n",
    "    opset_version=13\n",
    ")\n"
   ]
  },
  {
   "cell_type": "code",
   "execution_count": 25,
   "id": "f1097fac",
   "metadata": {},
   "outputs": [],
   "source": [
    "sess = ort.InferenceSession('test/model.onnx', providers=[\"CPUExecutionProvider\"])\n",
    "out = sess.run(None, {'input': x.numpy(), 'hx': net.h0.detach().numpy()})"
   ]
  },
  {
   "cell_type": "code",
   "execution_count": 26,
   "id": "21b06f20",
   "metadata": {},
   "outputs": [
    {
     "data": {
      "text/plain": [
       "(tensor([0.9168]),\n",
       " tensor([[7.8661e-01, 2.1986e-01, 6.5865e-01, 1.1748e+00, 3.1769e-03, 5.1610e-01,\n",
       "          4.0148e-02, 4.7996e-01, 5.2421e-02, 4.8228e-02, 8.8668e-02, 8.6797e-02,\n",
       "          1.9795e+00, 1.0100e+00, 1.2751e-01, 7.0789e-02, 1.2766e+00, 1.2876e+00,\n",
       "          1.1415e-01, 1.0223e+00, 4.6984e-01, 1.6167e-01, 7.9335e-03, 4.8726e-01,\n",
       "          1.5820e+00, 4.6978e-01, 1.7345e+00, 6.5467e-01, 4.1932e-03, 2.1408e-01,\n",
       "          9.3604e-02, 1.6803e-01, 4.5541e-02, 3.7650e-02, 7.2401e-01, 3.2143e-01,\n",
       "          1.9473e+00, 1.5760e+00, 1.0006e+00, 1.1182e+00, 4.7248e-01, 3.9661e-03,\n",
       "          3.0456e-01, 6.2650e-01, 3.0756e-01, 1.8634e-03, 2.7375e-01, 5.0396e-02,\n",
       "          5.7525e-01, 1.0706e+00, 2.9057e-01, 2.5634e-01, 1.4951e-01, 7.1377e-01,\n",
       "          6.0333e-02, 6.9569e-01, 9.0938e-01, 1.5414e-01, 2.4672e-02, 1.0866e-02,\n",
       "          7.2793e-02, 8.1577e-01, 1.1750e+00, 5.2371e-02]]))"
      ]
     },
     "execution_count": 26,
     "metadata": {},
     "output_type": "execute_result"
    }
   ],
   "source": [
    "net(*dummy)"
   ]
  },
  {
   "cell_type": "code",
   "execution_count": 27,
   "id": "31bb5541",
   "metadata": {},
   "outputs": [
    {
     "data": {
      "text/plain": [
       "[array([0.9167516], dtype=float32),\n",
       " array([[7.8660810e-01, 2.1985634e-01, 6.5865248e-01, 1.1747572e+00,\n",
       "         3.1768831e-03, 5.1610315e-01, 4.0148247e-02, 4.7995839e-01,\n",
       "         5.2421257e-02, 4.8227832e-02, 8.8668346e-02, 8.6796865e-02,\n",
       "         1.9795123e+00, 1.0099574e+00, 1.2751462e-01, 7.0789427e-02,\n",
       "         1.2765919e+00, 1.2876171e+00, 1.1414590e-01, 1.0222778e+00,\n",
       "         4.6984407e-01, 1.6166882e-01, 7.9335170e-03, 4.8725992e-01,\n",
       "         1.5819535e+00, 4.6977788e-01, 1.7345171e+00, 6.5467143e-01,\n",
       "         4.1932315e-03, 2.1407516e-01, 9.3604356e-02, 1.6803156e-01,\n",
       "         4.5540698e-02, 3.7650466e-02, 7.2400790e-01, 3.2143021e-01,\n",
       "         1.9473239e+00, 1.5759907e+00, 1.0006256e+00, 1.1182337e+00,\n",
       "         4.7248182e-01, 3.9660963e-03, 3.0456409e-01, 6.2650490e-01,\n",
       "         3.0755606e-01, 1.8633652e-03, 2.7375156e-01, 5.0396293e-02,\n",
       "         5.7524836e-01, 1.0705720e+00, 2.9056746e-01, 2.5634307e-01,\n",
       "         1.4951283e-01, 7.1377492e-01, 6.0333371e-02, 6.9569373e-01,\n",
       "         9.0937942e-01, 1.5413678e-01, 2.4671735e-02, 1.0865590e-02,\n",
       "         7.2792500e-02, 8.1576699e-01, 1.1750416e+00, 5.2371405e-02]],\n",
       "       dtype=float32)]"
      ]
     },
     "execution_count": 27,
     "metadata": {},
     "output_type": "execute_result"
    }
   ],
   "source": [
    "out"
   ]
  },
  {
   "cell_type": "markdown",
   "id": "b981e3aa",
   "metadata": {},
   "source": [
    "## ESP-DL"
   ]
  },
  {
   "cell_type": "code",
   "execution_count": 28,
   "id": "065f8978",
   "metadata": {},
   "outputs": [
    {
     "name": "stdout",
     "output_type": "stream",
     "text": [
      "\n",
      "    ___________ ____        ____  ____  ____\n",
      "   / ____/ ___// __ \\      / __ \\/ __ \\/ __ \\\n",
      "  / __/  \\__ \\/ /_/ /_____/ /_/ / /_/ / / / /\n",
      " / /___ ___/ / ____/_____/ ____/ ____/ /_/ /\n",
      "/_____//____/_/         /_/   /_/    \\___\\_\\\n",
      "\n",
      "\n"
     ]
    }
   ],
   "source": [
    "from torch.utils.data import (\n",
    "    Dataset,\n",
    "    DataLoader\n",
    ")\n",
    "from esp_ppq.api import (\n",
    "    espdl_quantize_torch,\n",
    "    espdl_quantize_onnx\n",
    ")\n",
    "from esp_ppq.executor.torch import TorchExecutor"
   ]
  },
  {
   "cell_type": "code",
   "execution_count": 29,
   "id": "1088fcea",
   "metadata": {},
   "outputs": [],
   "source": [
    "from utils import (\n",
    "    process_label,\n",
    "    process_feature\n",
    ")"
   ]
  },
  {
   "cell_type": "code",
   "execution_count": 30,
   "id": "b436f379",
   "metadata": {},
   "outputs": [],
   "source": [
    "data = []\n",
    "label = []\n",
    "for path in [\n",
    "    'ATR_GN_P4-250120-00138-2025-09-04-15-372127-373946.csv',\n",
    "    'ATR_GN_P4-250120-00138-2025-09-07-20-3155534-3159779.csv'\n",
    "    ]:\n",
    "    path = f'dataset/train/{path}'\n",
    "    df = pd.read_csv(path, index_col=0)\n",
    "\n",
    "    process_label(df, path)\n",
    "    process_feature(df)\n",
    "\n",
    "    df = df[\n",
    "        ['ln_pts', 'z_iqr', 'z_std', 'z_c', 'range', 'l_r', 's_r', 'dist', 'label']\n",
    "    ].astype('float32').values\n",
    "    h = net.h0.detach()\n",
    "    for x in df:\n",
    "        data.append((x[:-1], h.numpy()[0]))\n",
    "        label.append(x[-1])\n",
    "        x = torch.from_numpy(x[:-1]).unsqueeze(0)\n",
    "        y, h = net(x, h)\n"
   ]
  },
  {
   "cell_type": "code",
   "execution_count": 31,
   "id": "6647ef2a",
   "metadata": {},
   "outputs": [],
   "source": [
    "class QuantDataset(Dataset):\n",
    "\n",
    "    def __init__(self, data, label):\n",
    "        self.data = data\n",
    "        self.label = label\n",
    "\n",
    "    def __len__(self):\n",
    "        return len(self.label)\n",
    "\n",
    "    def __getitem__(self, idx):\n",
    "        data = self.data[idx]\n",
    "        label = self.label[idx]\n",
    "        return data, label\n"
   ]
  },
  {
   "cell_type": "code",
   "execution_count": 32,
   "id": "31b1bf62",
   "metadata": {},
   "outputs": [],
   "source": [
    "ds = QuantDataset(data, label)\n",
    "dl = DataLoader(ds, batch_size=32, shuffle=False)\n",
    "\n",
    "def collate_fn(batch):\n",
    "    return batch[0]"
   ]
  },
  {
   "cell_type": "code",
   "execution_count": 33,
   "id": "119c7454",
   "metadata": {},
   "outputs": [
    {
     "name": "stdout",
     "output_type": "stream",
     "text": [
      "[16:32:25] PPQ Quantization Fusion Pass Running ...       Finished.\n",
      "[16:32:26] PPQ Quantize Simplify Pass Running ...         Finished.\n",
      "[16:32:26] PPQ Parameter Quantization Pass Running ...    Finished.\n",
      "[16:32:26] PPQ Runtime Calibration Pass Running ...       "
     ]
    },
    {
     "name": "stderr",
     "output_type": "stream",
     "text": [
      "Calibration Progress(Phase 1): 100%|██████████| 32/32 [00:00<00:00, 551.16it/s]\n",
      "Calibration Progress(Phase 2): 100%|██████████| 32/32 [00:00<00:00, 39.72it/s]\n"
     ]
    },
    {
     "name": "stdout",
     "output_type": "stream",
     "text": [
      "Finished.\n",
      "[16:32:27] PPQ Quantization Alignment Pass Running ...    Finished.\n",
      "[16:32:27] PPQ Passive Parameter Quantization Running ... Finished.\n",
      "--------- Network Snapshot ---------\n",
      "Num of Op:                    [9]\n",
      "Num of Quantized Op:          [9]\n",
      "Num of Variable:              [19]\n",
      "Num of Quantized Var:         [19]\n",
      "------- Quantization Snapshot ------\n",
      "Num of Quant Config:          [28]\n",
      "ACTIVATED:                    [9]\n",
      "OVERLAPPED:                   [9]\n",
      "PASSIVE:                      [9]\n",
      "FP32:                         [1]\n",
      "Network Quantization Finished.\n"
     ]
    },
    {
     "name": "stderr",
     "output_type": "stream",
     "text": [
      "Analysing Graphwise Quantization Error(Phrase 1):: 100%|██████████| 8/8 [00:00<00:00, 185.81it/s]\n",
      "Analysing Graphwise Quantization Error(Phrase 2):: 100%|██████████| 8/8 [00:00<00:00, 195.07it/s]\n"
     ]
    },
    {
     "name": "stdout",
     "output_type": "stream",
     "text": [
      "Layer           | NOISE:SIGNAL POWER RATIO \n",
      "/i_proj/MatMul: | ████████████████████ | 1.447%\n",
      "/o_proj/MatMul: |                      | 0.439%\n"
     ]
    },
    {
     "name": "stderr",
     "output_type": "stream",
     "text": [
      "Analysing Layerwise quantization error:: 100%|██████████| 2/2 [00:00<00:00, 90.74it/s]"
     ]
    },
    {
     "name": "stdout",
     "output_type": "stream",
     "text": [
      "Layer           | NOISE:SIGNAL POWER RATIO \n",
      "/i_proj/MatMul: | ████████████████████ | 0.322%\n",
      "/o_proj/MatMul: |                      | 0.000%\n",
      "\u001b[38;5;2m[INFO][ESPDL][2025-10-10 16:32:27]:  \u001b[mSkip /Constant_output_0 because it's not exportable\n",
      "\u001b[38;5;2m[INFO][ESPDL][2025-10-10 16:32:27]:  \u001b[mSkip /Constant_output_0 because it's not exportable\n",
      "\u001b[38;5;2m[INFO][ESPDL][2025-10-10 16:32:27]:  \u001b[mSkip /Constant_output_0 because it's not exportable\n",
      "\u001b[38;5;2m[INFO][ESPDL][2025-10-10 16:32:27]:  \u001b[mskip not QuantableOperation\n",
      "\u001b[38;5;2m[INFO][ESPDL][2025-10-10 16:32:27]:  \u001b[mSkip /Constant_output_0 because it's not exportable\n"
     ]
    },
    {
     "name": "stderr",
     "output_type": "stream",
     "text": [
      "\n"
     ]
    }
   ],
   "source": [
    "graph = espdl_quantize_onnx(\n",
    "    onnx_import_file='test/model.onnx',\n",
    "    espdl_export_file='test2/model.espdl',\n",
    "    calib_dataloader=dl,\n",
    "    calib_steps=32,\n",
    "    input_shape=[[1, 8], [1, 64]],  # 输入形状，批次为 1\n",
    "    inputs=None,\n",
    "    target=\"esp32s3\",  # 量化目标类型\n",
    "    num_of_bits=16,  # 量化位数\n",
    "    collate_fn=collate_fn,\n",
    "    device='cpu',\n",
    "    error_report=True,\n",
    "    skip_export=False,\n",
    "    export_test_values=True,\n",
    "    verbose=2\n",
    ")"
   ]
  },
  {
   "cell_type": "code",
   "execution_count": 34,
   "id": "802c41d8",
   "metadata": {},
   "outputs": [
    {
     "name": "stdout",
     "output_type": "stream",
     "text": [
      "origin model loss: 0.81184\n",
      "origin model err: 0.10344\n"
     ]
    }
   ],
   "source": [
    "criterion = torch.nn.BCEWithLogitsLoss()\n",
    "\n",
    "loss = 0\n",
    "err = 0\n",
    "for batch, label in dl:\n",
    "    y_pred, h = net(*batch)\n",
    "    loss += criterion(y_pred, label)\n",
    "    err += ((y_pred>0.8) != label).sum()\n",
    "\n",
    "loss /= len(dl)\n",
    "print(f\"origin model loss: {loss.item():.5f}\")\n",
    "\n",
    "print(f\"origin model err: {err/len(ds):.5f}\")"
   ]
  },
  {
   "cell_type": "code",
   "execution_count": 35,
   "id": "202857b0",
   "metadata": {},
   "outputs": [
    {
     "name": "stdout",
     "output_type": "stream",
     "text": [
      "quant model loss: 0.81254\n",
      "quant model err: 0.10901\n"
     ]
    }
   ],
   "source": [
    "executor = TorchExecutor(graph=graph, device='cpu')\n",
    "loss = 0\n",
    "err = 0\n",
    "for batch, label in dl:\n",
    "    y_pred, h = executor(batch)\n",
    "    loss += criterion(y_pred, label)\n",
    "    err += ((y_pred>0.8) != label).sum()\n",
    "\n",
    "loss /= len(dl)\n",
    "print(f\"quant model loss: {loss.item():.5f}\")\n",
    "\n",
    "print(f\"quant model err: {err/len(ds):.5f}\")"
   ]
  },
  {
   "cell_type": "code",
   "execution_count": 36,
   "id": "9a4ca205",
   "metadata": {},
   "outputs": [],
   "source": [
    "executor = TorchExecutor(graph=graph, device='cpu')\n",
    "x = torch.tensor(\n",
    "    [[4.882802, 0.4116477, 0.2582662, 1.1432298, 0.34995735, 0.15397726, 0.07350865, 0.]]\n",
    ")\n",
    "h = net.h0.detach()\n",
    "batch = [x, h]\n",
    "y_pred = executor(batch)\n"
   ]
  },
  {
   "cell_type": "code",
   "execution_count": 37,
   "id": "5cddfeca",
   "metadata": {},
   "outputs": [
    {
     "data": {
      "text/plain": [
       "[tensor([0.9008]),\n",
       " tensor([[0.6885, 0.2198, 0.5027, 1.0769, 0.0032, 0.4906, 0.0402, 0.3770, 0.0524,\n",
       "          0.0482, 0.0773, 0.0868, 1.7412, 0.9561, 0.1274, 0.0708, 1.0892, 1.1113,\n",
       "          0.1141, 0.8634, 0.5474, 0.1617, 0.0079, 0.4052, 1.3741, 0.4323, 1.5175,\n",
       "          0.5607, 0.0044, 0.2141, 0.0936, 0.1659, 0.0455, 0.0331, 0.6772, 0.3899,\n",
       "          1.6473, 1.3566, 0.8929, 0.9310, 0.3630, 0.0040, 0.2827, 0.5604, 0.2706,\n",
       "          0.0018, 0.3129, 0.0504, 0.4323, 0.9281, 0.2184, 0.2098, 0.1421, 0.6945,\n",
       "          0.0536, 0.5927, 0.8116, 0.1542, 0.0247, 0.0109, 0.0692, 0.7612, 1.0388,\n",
       "          0.0524]])]"
      ]
     },
     "execution_count": 37,
     "metadata": {},
     "output_type": "execute_result"
    }
   ],
   "source": [
    "y_pred"
   ]
  }
 ],
 "metadata": {
  "kernelspec": {
   "display_name": "py311",
   "language": "python",
   "name": "python3"
  },
  "language_info": {
   "codemirror_mode": {
    "name": "ipython",
    "version": 3
   },
   "file_extension": ".py",
   "mimetype": "text/x-python",
   "name": "python",
   "nbconvert_exporter": "python",
   "pygments_lexer": "ipython3",
   "version": "3.11.11"
  }
 },
 "nbformat": 4,
 "nbformat_minor": 5
}
