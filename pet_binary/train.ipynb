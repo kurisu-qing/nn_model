{
 "cells": [
  {
   "cell_type": "markdown",
   "id": "a6ea87bb",
   "metadata": {},
   "source": [
    "## Read"
   ]
  },
  {
   "cell_type": "code",
   "execution_count": 1,
   "id": "d77b4dc5-58bd-46b9-a011-6cffc180b4f5",
   "metadata": {},
   "outputs": [],
   "source": [
    "import torch\n",
    "import numpy as np\n",
    "import pandas as pd\n",
    "import torch.nn as nn"
   ]
  },
  {
   "cell_type": "code",
   "execution_count": 2,
   "id": "9f66631f",
   "metadata": {},
   "outputs": [],
   "source": [
    "df = pd.read_csv(\n",
    "    r'C:/Users/pontosense/Downloads/Target/ATR_GN_P2-240601-00069-2025-08-27-15-181634-185134.csv',\n",
    "    index_col=0\n",
    ")"
   ]
  },
  {
   "cell_type": "code",
   "execution_count": 3,
   "id": "1ea94ff0",
   "metadata": {},
   "outputs": [],
   "source": [
    "df['label'] = 2\n",
    "\n",
    "with open('C:/Users/pontosense/Downloads/Target/ATR_GN_P2-240601-00069-2025-08-27-15-181634-185134.txt', 'r') as fr:\n",
    "    lines = fr.readlines()\n",
    "    for i, line in enumerate(lines[:-1]):\n",
    "        line = line.rstrip('\\n').split(',')\n",
    "        j, l = int(line[0]), int(line[1])\n",
    "        k = int(lines[i+1].split(',')[0]) - 1\n",
    "        df.loc[j:k, 'label'] = l\n",
    "\n",
    "    line = lines[-1].rstrip('\\n').split(',')\n",
    "    j, l = int(line[0]), int(line[1])\n",
    "    df.loc[j:, 'label'] = 1\n"
   ]
  },
  {
   "cell_type": "code",
   "execution_count": 4,
   "id": "c21cda43",
   "metadata": {},
   "outputs": [],
   "source": [
    "df['ln_pts'] = np.log(df['pts']+1)\n",
    "df['ln_dyn'] = np.log(df['pts_dyn']+1)\n",
    "df['ln_sta'] = np.log(df['pts']-df['pts_dyn']+1)\n",
    "\n",
    "df['z_iqr'] = df['z_q3'] - df['z_q1']"
   ]
  },
  {
   "cell_type": "code",
   "execution_count": 5,
   "id": "561fb2ae",
   "metadata": {},
   "outputs": [],
   "source": [
    "df['range'] = np.sqrt(np.square(df['x_c'])+np.square(df['y_c']))\n",
    "\n",
    "df['dx'] = df['x_c'].diff().fillna(0)\n",
    "df['dy'] = df['y_c'].diff().fillna(0)\n",
    "df['dist'] = np.sqrt(np.square(df['dx'])+np.square(df['dy']))"
   ]
  },
  {
   "cell_type": "code",
   "execution_count": 6,
   "id": "907d7bc2",
   "metadata": {},
   "outputs": [
    {
     "data": {
      "text/html": [
       "<div>\n",
       "<style scoped>\n",
       "    .dataframe tbody tr th:only-of-type {\n",
       "        vertical-align: middle;\n",
       "    }\n",
       "\n",
       "    .dataframe tbody tr th {\n",
       "        vertical-align: top;\n",
       "    }\n",
       "\n",
       "    .dataframe thead th {\n",
       "        text-align: right;\n",
       "    }\n",
       "</style>\n",
       "<table border=\"1\" class=\"dataframe\">\n",
       "  <thead>\n",
       "    <tr style=\"text-align: right;\">\n",
       "      <th></th>\n",
       "      <th>ln_pts</th>\n",
       "      <th>z_iqr</th>\n",
       "      <th>z_std</th>\n",
       "      <th>z_c</th>\n",
       "      <th>range</th>\n",
       "      <th>l_r</th>\n",
       "      <th>s_r</th>\n",
       "      <th>dist</th>\n",
       "    </tr>\n",
       "  </thead>\n",
       "  <tbody>\n",
       "    <tr>\n",
       "      <th>count</th>\n",
       "      <td>3312.000000</td>\n",
       "      <td>3312.000000</td>\n",
       "      <td>3312.000000</td>\n",
       "      <td>3312.000000</td>\n",
       "      <td>3312.000000</td>\n",
       "      <td>3312.000000</td>\n",
       "      <td>3312.000000</td>\n",
       "      <td>3312.000000</td>\n",
       "    </tr>\n",
       "    <tr>\n",
       "      <th>mean</th>\n",
       "      <td>3.757245</td>\n",
       "      <td>0.151343</td>\n",
       "      <td>0.117492</td>\n",
       "      <td>0.703486</td>\n",
       "      <td>1.808366</td>\n",
       "      <td>0.157029</td>\n",
       "      <td>0.073269</td>\n",
       "      <td>0.062353</td>\n",
       "    </tr>\n",
       "    <tr>\n",
       "      <th>std</th>\n",
       "      <td>0.750033</td>\n",
       "      <td>0.097444</td>\n",
       "      <td>0.059057</td>\n",
       "      <td>0.164717</td>\n",
       "      <td>0.667683</td>\n",
       "      <td>0.069620</td>\n",
       "      <td>0.025801</td>\n",
       "      <td>0.072770</td>\n",
       "    </tr>\n",
       "    <tr>\n",
       "      <th>min</th>\n",
       "      <td>1.791759</td>\n",
       "      <td>0.001326</td>\n",
       "      <td>0.013755</td>\n",
       "      <td>0.116885</td>\n",
       "      <td>0.002175</td>\n",
       "      <td>0.030047</td>\n",
       "      <td>0.004261</td>\n",
       "      <td>0.000000</td>\n",
       "    </tr>\n",
       "    <tr>\n",
       "      <th>25%</th>\n",
       "      <td>3.433987</td>\n",
       "      <td>0.087894</td>\n",
       "      <td>0.072488</td>\n",
       "      <td>0.582041</td>\n",
       "      <td>1.257358</td>\n",
       "      <td>0.114481</td>\n",
       "      <td>0.058480</td>\n",
       "      <td>0.021807</td>\n",
       "    </tr>\n",
       "    <tr>\n",
       "      <th>50%</th>\n",
       "      <td>3.931826</td>\n",
       "      <td>0.124564</td>\n",
       "      <td>0.108521</td>\n",
       "      <td>0.690462</td>\n",
       "      <td>2.235125</td>\n",
       "      <td>0.139962</td>\n",
       "      <td>0.074673</td>\n",
       "      <td>0.042583</td>\n",
       "    </tr>\n",
       "    <tr>\n",
       "      <th>75%</th>\n",
       "      <td>4.248495</td>\n",
       "      <td>0.191632</td>\n",
       "      <td>0.150493</td>\n",
       "      <td>0.804874</td>\n",
       "      <td>2.309790</td>\n",
       "      <td>0.183018</td>\n",
       "      <td>0.089189</td>\n",
       "      <td>0.076200</td>\n",
       "    </tr>\n",
       "    <tr>\n",
       "      <th>max</th>\n",
       "      <td>5.545177</td>\n",
       "      <td>0.904304</td>\n",
       "      <td>0.440245</td>\n",
       "      <td>1.357594</td>\n",
       "      <td>3.274375</td>\n",
       "      <td>0.840068</td>\n",
       "      <td>0.294941</td>\n",
       "      <td>1.105550</td>\n",
       "    </tr>\n",
       "  </tbody>\n",
       "</table>\n",
       "</div>"
      ],
      "text/plain": [
       "            ln_pts        z_iqr        z_std          z_c        range  \\\n",
       "count  3312.000000  3312.000000  3312.000000  3312.000000  3312.000000   \n",
       "mean      3.757245     0.151343     0.117492     0.703486     1.808366   \n",
       "std       0.750033     0.097444     0.059057     0.164717     0.667683   \n",
       "min       1.791759     0.001326     0.013755     0.116885     0.002175   \n",
       "25%       3.433987     0.087894     0.072488     0.582041     1.257358   \n",
       "50%       3.931826     0.124564     0.108521     0.690462     2.235125   \n",
       "75%       4.248495     0.191632     0.150493     0.804874     2.309790   \n",
       "max       5.545177     0.904304     0.440245     1.357594     3.274375   \n",
       "\n",
       "               l_r          s_r         dist  \n",
       "count  3312.000000  3312.000000  3312.000000  \n",
       "mean      0.157029     0.073269     0.062353  \n",
       "std       0.069620     0.025801     0.072770  \n",
       "min       0.030047     0.004261     0.000000  \n",
       "25%       0.114481     0.058480     0.021807  \n",
       "50%       0.139962     0.074673     0.042583  \n",
       "75%       0.183018     0.089189     0.076200  \n",
       "max       0.840068     0.294941     1.105550  "
      ]
     },
     "execution_count": 6,
     "metadata": {},
     "output_type": "execute_result"
    }
   ],
   "source": [
    "df[['ln_pts', 'z_iqr', 'z_std', 'z_c', 'range', 'l_r', 's_r', 'dist']].describe()"
   ]
  },
  {
   "cell_type": "code",
   "execution_count": 7,
   "id": "f2e1ef32",
   "metadata": {},
   "outputs": [],
   "source": [
    "df.reset_index(inplace=True)\n",
    "\n",
    "np.random.seed(2025)\n",
    "torch.manual_seed(2025)\n",
    "\n",
    "ids = np.random.choice(df.index[:-79], 60, replace=False)"
   ]
  },
  {
   "cell_type": "code",
   "execution_count": 8,
   "id": "ae589268",
   "metadata": {},
   "outputs": [
    {
     "data": {
      "text/plain": [
       "label\n",
       "1    2558\n",
       "0     754\n",
       "Name: count, dtype: int64"
      ]
     },
     "execution_count": 8,
     "metadata": {},
     "output_type": "execute_result"
    }
   ],
   "source": [
    "df['label'].value_counts()"
   ]
  },
  {
   "cell_type": "markdown",
   "id": "354c9196",
   "metadata": {},
   "source": [
    "## Dataset & Dataloader"
   ]
  },
  {
   "cell_type": "code",
   "execution_count": 9,
   "id": "3c77b086",
   "metadata": {},
   "outputs": [],
   "source": [
    "from torch.utils.data import (\n",
    "    Dataset,\n",
    "    DataLoader\n",
    ")"
   ]
  },
  {
   "cell_type": "code",
   "execution_count": 10,
   "id": "d7f2cbdc",
   "metadata": {},
   "outputs": [],
   "source": [
    "class PetDataset(Dataset):\n",
    "\n",
    "    def __init__(self, df, ids):\n",
    "        self.arr = df[\n",
    "            ['ln_pts', 'z_iqr', 'z_std', 'z_c', 'range', 'l_r', 's_r', 'dist', 'label']\n",
    "        ].astype('float32').values\n",
    "        self.ids = ids\n",
    "\n",
    "    def __len__(self):\n",
    "        return len(self.ids)\n",
    "\n",
    "    def __getitem__(self, idx):\n",
    "        jdx = self.ids[idx]\n",
    "        batch = self.arr[jdx:jdx+80, :-1]\n",
    "        label = self.arr[jdx:jdx+80, -1]\n",
    "        return batch, label\n"
   ]
  },
  {
   "cell_type": "code",
   "execution_count": 11,
   "id": "ab8b532f",
   "metadata": {},
   "outputs": [],
   "source": [
    "train_ds = PetDataset(df, ids)\n",
    "train_dl = DataLoader(train_ds, batch_size=8, shuffle=True, num_workers=0, drop_last=True)"
   ]
  },
  {
   "cell_type": "markdown",
   "id": "00558a6a",
   "metadata": {},
   "source": [
    "## Model"
   ]
  },
  {
   "cell_type": "code",
   "execution_count": null,
   "id": "608d84ef",
   "metadata": {},
   "outputs": [],
   "source": [
    "from torchinfo import summary\n",
    "\n",
    "from pet_binary.layers import (\n",
    "    EMA,\n",
    "    Transpose\n",
    ")"
   ]
  },
  {
   "cell_type": "code",
   "execution_count": null,
   "id": "9b870088",
   "metadata": {},
   "outputs": [
    {
     "data": {
      "text/plain": [
       "==========================================================================================\n",
       "Layer (type:depth-idx)                   Output Shape              Param #\n",
       "==========================================================================================\n",
       "Sequential                               [2, 80, 1]                --\n",
       "├─Linear: 1-1                            [2, 80, 64]               512\n",
       "├─ReLU: 1-2                              [2, 80, 64]               --\n",
       "├─Transpose: 1-3                         [2, 64, 80]               --\n",
       "├─EMA: 1-4                               [2, 64, 80]               128\n",
       "├─Transpose: 1-5                         [2, 80, 64]               --\n",
       "├─ReLU: 1-6                              [2, 80, 64]               --\n",
       "├─Linear: 1-7                            [2, 80, 1]                64\n",
       "==========================================================================================\n",
       "Total params: 704\n",
       "Trainable params: 704\n",
       "Non-trainable params: 0\n",
       "Total mult-adds (Units.MEGABYTES): 0.00\n",
       "==========================================================================================\n",
       "Input size (MB): 0.01\n",
       "Forward/backward pass size (MB): 0.17\n",
       "Params size (MB): 0.00\n",
       "Estimated Total Size (MB): 0.17\n",
       "=========================================================================================="
      ]
     },
     "execution_count": 102,
     "metadata": {},
     "output_type": "execute_result"
    }
   ],
   "source": [
    "hs = 64\n",
    "\n",
    "model = nn.Sequential(\n",
    "    nn.Linear(8, hs, bias=False),\n",
    "    Transpose(),\n",
    "    nn.ReLU(),\n",
    "    EMA(hs, length=80),\n",
    "    Transpose(),\n",
    "    # nn.LayerNorm(hs, 1e-6, False),\n",
    "    nn.ReLU(),\n",
    "    nn.Linear(hs, 1, bias=False)\n",
    ")\n",
    "\n",
    "summary(model, (2, 80, 8), col_names=['output_size', 'num_params'])"
   ]
  },
  {
   "cell_type": "markdown",
   "id": "baab1e2d",
   "metadata": {},
   "source": [
    "## Train"
   ]
  },
  {
   "cell_type": "code",
   "execution_count": 103,
   "id": "f7eb6a0f",
   "metadata": {},
   "outputs": [],
   "source": [
    "from torchmetrics import MetricCollection\n",
    "from torchmetrics.classification import (\n",
    "    BinaryAccuracy,\n",
    "    BinaryAUROC\n",
    ")"
   ]
  },
  {
   "cell_type": "code",
   "execution_count": 104,
   "id": "d1c49c57",
   "metadata": {},
   "outputs": [],
   "source": [
    "# criterion\n",
    "loss_fn = nn.BCEWithLogitsLoss()\n",
    "optimizer = torch.optim.AdamW(model.parameters(), lr=1e-3, weight_decay=1e-3)\n",
    "\n",
    "metric = MetricCollection({'acc':BinaryAccuracy(), 'auc':BinaryAUROC()})"
   ]
  },
  {
   "cell_type": "code",
   "execution_count": 105,
   "id": "4e8228e6",
   "metadata": {},
   "outputs": [
    {
     "name": "stdout",
     "output_type": "stream",
     "text": [
      "epoch 0 - acc: 0.6951 - auc: 0.5858\n",
      "epoch 1 - acc: 0.6775 - auc: 0.7572\n",
      "epoch 2 - acc: 0.6978 - auc: 0.7964\n",
      "epoch 3 - acc: 0.6761 - auc: 0.8200\n",
      "epoch 4 - acc: 0.6938 - auc: 0.8284\n",
      "epoch 5 - acc: 0.6786 - auc: 0.8680\n",
      "epoch 6 - acc: 0.6938 - auc: 0.8785\n",
      "epoch 7 - acc: 0.6786 - auc: 0.8764\n",
      "epoch 8 - acc: 0.6759 - auc: 0.9040\n",
      "epoch 9 - acc: 0.6761 - auc: 0.8995\n",
      "epoch 10 - acc: 0.7116 - auc: 0.9159\n",
      "epoch 11 - acc: 0.6964 - auc: 0.9042\n",
      "epoch 12 - acc: 0.6580 - auc: 0.9222\n",
      "epoch 13 - acc: 0.6674 - auc: 0.9231\n",
      "epoch 14 - acc: 0.6772 - auc: 0.9348\n",
      "epoch 15 - acc: 0.6759 - auc: 0.9395\n",
      "epoch 16 - acc: 0.6772 - auc: 0.9469\n",
      "epoch 17 - acc: 0.6900 - auc: 0.9573\n",
      "epoch 18 - acc: 0.7295 - auc: 0.9512\n",
      "epoch 19 - acc: 0.7563 - auc: 0.9565\n",
      "epoch 20 - acc: 0.7993 - auc: 0.9610\n",
      "CPU times: total: 4.22 s\n",
      "Wall time: 540 ms\n"
     ]
    }
   ],
   "source": [
    "%%time\n",
    "\n",
    "epochs = 21\n",
    "step = 0\n",
    "\n",
    "model.train()\n",
    "\n",
    "for epoch in range(epochs):\n",
    "\n",
    "    for batch, label in train_dl:\n",
    "        logit = model(batch).squeeze(-1)\n",
    "        loss = loss_fn(logit, label)\n",
    "\n",
    "        loss.backward()\n",
    "        optimizer.step()\n",
    "        optimizer.zero_grad()\n",
    "\n",
    "        proba = torch.sigmoid(logit)\n",
    "        metric.update(proba, label)\n",
    "        step += 1\n",
    "\n",
    "    res = metric.compute()\n",
    "    print(f'epoch {epoch} - acc: {res[\"acc\"]:.4f} - auc: {res[\"auc\"]:.4f}')\n",
    "    metric.reset()\n"
   ]
  },
  {
   "cell_type": "code",
   "execution_count": 106,
   "id": "68346dc9",
   "metadata": {},
   "outputs": [
    {
     "data": {
      "text/plain": [
       "Sequential(\n",
       "  (0): Linear(in_features=8, out_features=64, bias=False)\n",
       "  (1): ReLU()\n",
       "  (2): Transpose()\n",
       "  (3): EMA(in_chn=64, length=80)\n",
       "  (4): Transpose()\n",
       "  (5): ReLU()\n",
       "  (6): Linear(in_features=64, out_features=1, bias=False)\n",
       ")"
      ]
     },
     "execution_count": 106,
     "metadata": {},
     "output_type": "execute_result"
    }
   ],
   "source": [
    "model"
   ]
  },
  {
   "cell_type": "code",
   "execution_count": 107,
   "id": "e26560e5",
   "metadata": {},
   "outputs": [
    {
     "data": {
      "text/plain": [
       "tensor([0.8896, 0.3408, 0.8271, 0.2732, 0.6323, 0.1168, 0.0968, 0.4643, 0.1605,\n",
       "        0.0391, 0.1931, 0.8049, 0.8968, 0.3196, 0.8693, 0.9878, 0.3313, 0.2141,\n",
       "        0.7117, 0.6708, 0.7730, 0.8281, 0.6684, 0.4420, 0.5452, 0.8477, 0.5310,\n",
       "        0.4659, 0.4535, 0.1802, 0.7349, 0.2970, 0.4297, 0.7034, 1.0000, 0.9665,\n",
       "        0.4526, 0.0699, 0.5022, 0.6483, 0.6722, 0.4433, 0.6671, 0.6215, 0.0000,\n",
       "        0.4187, 0.6780, 0.6357, 0.4093, 0.1970, 0.3271, 0.8704, 0.5436, 0.7217,\n",
       "        0.8717, 0.9095, 0.6979, 0.6045, 0.6304, 0.2393, 0.3845, 1.0000, 0.1757,\n",
       "        0.2430], grad_fn=<ViewBackward0>)"
      ]
     },
     "execution_count": 107,
     "metadata": {},
     "output_type": "execute_result"
    }
   ],
   "source": [
    "model[3].params.clip(0, 1).flatten()"
   ]
  },
  {
   "cell_type": "code",
   "execution_count": 108,
   "id": "83117dda",
   "metadata": {},
   "outputs": [
    {
     "data": {
      "text/plain": [
       "tensor([[0.4583, 0.1109, 0.0563, 0.0526, 0.1514, 0.6142, 0.7008, 0.1118, 0.7139,\n",
       "         0.4707, 0.5919, 0.8427, 0.0505, 0.4375, 0.0000, 0.4740, 1.0324, 0.9368,\n",
       "         0.1332, 0.7751, 0.2168, 0.3069, 0.5121, 0.4555, 0.1735, 0.8811, 0.8224,\n",
       "         0.8982, 0.5241, 0.0000, 0.5818, 0.9138, 0.8097, 0.1720, 0.0152, 0.9100,\n",
       "         0.0241, 0.0801, 0.5000, 0.3832, 0.3759, 0.7161, 0.2373, 0.5897, 0.3084,\n",
       "         0.4604, 0.5902, 0.8673, 0.4089, 0.0000, 0.8516, 0.3164, 0.5932, 0.1215,\n",
       "         0.3152, 0.7942, 0.0754, 0.4454, 0.3410, 0.6171, 0.0000, 0.4453, 0.1170,\n",
       "         0.4639]], grad_fn=<ClampBackward1>)"
      ]
     },
     "execution_count": 108,
     "metadata": {},
     "output_type": "execute_result"
    }
   ],
   "source": [
    "model[3].x0.clip(0)"
   ]
  }
 ],
 "metadata": {
  "kernelspec": {
   "display_name": "py311",
   "language": "python",
   "name": "python3"
  },
  "language_info": {
   "codemirror_mode": {
    "name": "ipython",
    "version": 3
   },
   "file_extension": ".py",
   "mimetype": "text/x-python",
   "name": "python",
   "nbconvert_exporter": "python",
   "pygments_lexer": "ipython3",
   "version": "3.11.11"
  }
 },
 "nbformat": 4,
 "nbformat_minor": 5
}
