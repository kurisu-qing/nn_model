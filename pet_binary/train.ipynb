{
 "cells": [
  {
   "cell_type": "markdown",
   "id": "a6ea87bb",
   "metadata": {},
   "source": [
    "## Read"
   ]
  },
  {
   "cell_type": "code",
   "execution_count": 1,
   "id": "d77b4dc5-58bd-46b9-a011-6cffc180b4f5",
   "metadata": {},
   "outputs": [],
   "source": [
    "import torch\n",
    "import numpy as np\n",
    "import pandas as pd\n",
    "import torch.nn as nn\n",
    "\n",
    "from glob import iglob"
   ]
  },
  {
   "cell_type": "code",
   "execution_count": 2,
   "id": "e474838f",
   "metadata": {},
   "outputs": [],
   "source": [
    "def process_label(df, path):\n",
    "    df['label'] = 2\n",
    "    path = path.rstrip('.csv')\n",
    "    path = f'{path}.txt'\n",
    "    with open(path, 'r') as fr:\n",
    "        lines = fr.readlines()\n",
    "        for i, line in enumerate(lines[:-1]):\n",
    "            line = line.rstrip('\\n').split(',')\n",
    "            j, l = int(line[0]), int(line[1])\n",
    "            k = int(lines[i+1].split(',')[0]) - 1\n",
    "            if k<j:\n",
    "                print(k)\n",
    "            df.loc[j:k, 'label'] = l\n",
    "\n",
    "        line = lines[-1].rstrip('\\n').split(',')\n",
    "        j, l = int(line[0]), int(line[1])\n",
    "        df.loc[j:, 'label'] = 1\n",
    "\n",
    "\n",
    "def process_feature(df):\n",
    "    df['ln_pts'] = np.log(df['pts']+1)\n",
    "    df['ln_dyn'] = np.log(df['pts_dyn']+1)\n",
    "    df['ln_sta'] = np.log(df['pts']-df['pts_dyn']+1)\n",
    "\n",
    "    df['z_iqr'] = df['z_q3'] - df['z_q1']\n",
    "\n",
    "    df['range'] = np.sqrt(np.square(df['x_c'])+np.square(df['y_c']))\n",
    "\n",
    "    df['dx'] = df['x_c'].diff().fillna(0)\n",
    "    df['dy'] = df['y_c'].diff().fillna(0)\n",
    "    df['dist'] = np.sqrt(np.square(df['dx'])+np.square(df['dy']))\n",
    "\n",
    "    df.reset_index(inplace=True)\n"
   ]
  },
  {
   "cell_type": "code",
   "execution_count": null,
   "id": "9f66631f",
   "metadata": {},
   "outputs": [
    {
     "name": "stdout",
     "output_type": "stream",
     "text": [
      "ATR_GN_P2-240527-30019-2025-08-31-00-1384880-1388055.csv 24 98.1%\n",
      "ATR_GN_P2-240527-30019-2025-09-02-00-3097855-3098844.csv 8 98.0%\n",
      "ATR_GN_P2-240527-30019-2025-09-02-09-3427349-3428726.csv 7 100.0%\n",
      "ATR_GN_P2-240601-00069-2025-08-27-15-181634-185130.csv 28 77.2%\n",
      "ATR_GN_P2-240601-00069-2025-08-29-04-713100-716599.csv 29 98.6%\n",
      "ATR_GN_P4-241029-00016-2025-09-01-07-2584784-2591384.csv 49 97.7%\n",
      "ATR_GN_P4-250120-00138-2025-09-04-15-372127-373946.csv 14 95.0%\n",
      "ATR_GN_P4-250120-00138-2025-09-07-15-2969150-2970732.csv 13 99.1%\n",
      "ATR_GN_P4-250120-00138-2025-09-07-20-3155534-3159779.csv 20 7.1%\n",
      "ATR_GN_P4-250120-00172-2025-09-01-03-7698018-7703053.csv 18 100.0%\n",
      "P1-TP5-0528test-170695-173549.csv 17 99.8%\n",
      "P1-TP5-0528test-199959-202507.csv 12 95.8%\n",
      "P1-TP5-0528test-203583-205322.csv 13 99.4%\n"
     ]
    }
   ],
   "source": [
    "dfs = []\n",
    "\n",
    "for path in iglob(r'C:/Users/pontosense/Downloads/Target/*.csv'):\n",
    "    path = path.replace('\\\\', '/')\n",
    "    df = pd.read_csv(path, index_col=0)\n",
    "\n",
    "    process_label(df, path)\n",
    "    process_feature(df)\n",
    "\n",
    "    n = round(df.shape[0] / 120)\n",
    "    print(path.split('/')[-1], n, '{:.1%}'.format(df['label'].mean()))\n",
    "\n",
    "    df = df[\n",
    "        ['ln_pts', 'z_iqr', 'z_std', 'z_c', 'range', 'l_r', 's_r', 'dist', 'label']\n",
    "    ].astype('float32').values\n",
    "    for i in range(n):\n",
    "        dfs.append(df)"
   ]
  },
  {
   "cell_type": "markdown",
   "id": "354c9196",
   "metadata": {},
   "source": [
    "## Dataset & Dataloader"
   ]
  },
  {
   "cell_type": "code",
   "execution_count": 3,
   "id": "3c77b086",
   "metadata": {},
   "outputs": [],
   "source": [
    "from torch.utils.data import (\n",
    "    Dataset,\n",
    "    DataLoader\n",
    ")"
   ]
  },
  {
   "cell_type": "code",
   "execution_count": 5,
   "id": "d7f2cbdc",
   "metadata": {},
   "outputs": [],
   "source": [
    "class TrainDataset(Dataset):\n",
    "\n",
    "    def __init__(self, dfs):\n",
    "        self.dfs = dfs\n",
    "\n",
    "    def __len__(self):\n",
    "        return len(self.dfs)\n",
    "\n",
    "    def __getitem__(self, idx):\n",
    "        arr = self.dfs[idx]\n",
    "        jdx = np.random.choice(arr.shape[0]-79, 1)[0]\n",
    "        batch = arr[jdx:jdx+80, :-1]\n",
    "        label = arr[jdx:jdx+80, -1]\n",
    "        return batch, label\n"
   ]
  },
  {
   "cell_type": "code",
   "execution_count": 6,
   "id": "ab8b532f",
   "metadata": {},
   "outputs": [],
   "source": [
    "np.random.seed(2025)\n",
    "torch.manual_seed(2025)\n",
    "\n",
    "train_ds = TrainDataset(dfs)\n",
    "train_dl = DataLoader(train_ds, batch_size=16, shuffle=True, num_workers=0, drop_last=True)"
   ]
  },
  {
   "cell_type": "markdown",
   "id": "00558a6a",
   "metadata": {},
   "source": [
    "## Model"
   ]
  },
  {
   "cell_type": "code",
   "execution_count": 4,
   "id": "608d84ef",
   "metadata": {},
   "outputs": [],
   "source": [
    "from torchinfo import summary\n",
    "\n",
    "from layers import (\n",
    "    EMA,\n",
    "    Transpose\n",
    ")"
   ]
  },
  {
   "cell_type": "code",
   "execution_count": 5,
   "id": "9b870088",
   "metadata": {},
   "outputs": [
    {
     "data": {
      "text/plain": [
       "===================================================================================================================\n",
       "Layer (type:depth-idx)                   Input Shape               Output Shape              Param #\n",
       "===================================================================================================================\n",
       "Sequential                               [2, 80, 8]                [2, 80, 1]                --\n",
       "├─Linear: 1-1                            [2, 80, 8]                [2, 80, 64]               512\n",
       "├─Transpose: 1-2                         [2, 80, 64]               [2, 64, 80]               --\n",
       "├─ReLU6: 1-3                             [2, 64, 80]               [2, 64, 80]               --\n",
       "├─EMA: 1-4                               [2, 64, 80]               [2, 64, 80]               128\n",
       "├─Transpose: 1-5                         [2, 64, 80]               [2, 80, 64]               --\n",
       "├─ReLU6: 1-6                             [2, 80, 64]               [2, 80, 64]               --\n",
       "├─Linear: 1-7                            [2, 80, 64]               [2, 80, 1]                64\n",
       "===================================================================================================================\n",
       "Total params: 704\n",
       "Trainable params: 704\n",
       "Non-trainable params: 0\n",
       "Total mult-adds (Units.MEGABYTES): 0.00\n",
       "===================================================================================================================\n",
       "Input size (MB): 0.01\n",
       "Forward/backward pass size (MB): 0.17\n",
       "Params size (MB): 0.00\n",
       "Estimated Total Size (MB): 0.17\n",
       "==================================================================================================================="
      ]
     },
     "execution_count": 5,
     "metadata": {},
     "output_type": "execute_result"
    }
   ],
   "source": [
    "hs = 64\n",
    "\n",
    "model = nn.Sequential(\n",
    "    nn.Linear(8, hs, bias=False),\n",
    "    Transpose(),\n",
    "    nn.ReLU6(),\n",
    "    EMA(hs, length=80),\n",
    "    Transpose(),\n",
    "    nn.ReLU6(),\n",
    "    nn.Linear(hs, 1, bias=False)\n",
    ")\n",
    "\n",
    "summary(model, (2, 80, 8), col_names=['input_size', 'output_size', 'num_params'])"
   ]
  },
  {
   "cell_type": "markdown",
   "id": "baab1e2d",
   "metadata": {},
   "source": [
    "## Train"
   ]
  },
  {
   "cell_type": "code",
   "execution_count": 6,
   "id": "f7eb6a0f",
   "metadata": {},
   "outputs": [],
   "source": [
    "from torchmetrics import MetricCollection\n",
    "from torchmetrics.classification import (\n",
    "    BinaryAccuracy,\n",
    "    BinaryAUROC\n",
    ")"
   ]
  },
  {
   "cell_type": "code",
   "execution_count": 7,
   "id": "d1c49c57",
   "metadata": {},
   "outputs": [],
   "source": [
    "# criterion\n",
    "loss_fn = nn.BCEWithLogitsLoss()\n",
    "optimizer = torch.optim.AdamW(model.parameters(), lr=1e-3, weight_decay=1e-3)\n",
    "scheduler = torch.optim.lr_scheduler.StepLR(optimizer, step_size=50, gamma=.1**.5)\n",
    "\n",
    "metric = MetricCollection({'acc':BinaryAccuracy(), 'auc':BinaryAUROC()})"
   ]
  },
  {
   "cell_type": "code",
   "execution_count": 11,
   "id": "4e8228e6",
   "metadata": {},
   "outputs": [
    {
     "name": "stdout",
     "output_type": "stream",
     "text": [
      "epoch  2 - acc: 0.8713 - auc: 0.6142\n",
      "epoch 12 - acc: 0.8862 - auc: 0.7269\n",
      "epoch 22 - acc: 0.8822 - auc: 0.8705\n",
      "epoch 32 - acc: 0.8844 - auc: 0.8996\n",
      "epoch 42 - acc: 0.8874 - auc: 0.9022\n",
      "epoch 52 - acc: 0.8883 - auc: 0.9096\n",
      "epoch 62 - acc: 0.8948 - auc: 0.9173\n",
      "epoch 72 - acc: 0.8953 - auc: 0.9194\n",
      "epoch 82 - acc: 0.9093 - auc: 0.9220\n",
      "epoch 92 - acc: 0.9199 - auc: 0.9289\n",
      "epoch 102 - acc: 0.9305 - auc: 0.9361\n",
      "epoch 112 - acc: 0.9326 - auc: 0.9327\n",
      "epoch 122 - acc: 0.9319 - auc: 0.9333\n",
      "epoch 132 - acc: 0.9320 - auc: 0.9186\n",
      "epoch 142 - acc: 0.9319 - auc: 0.9304\n",
      "epoch 152 - acc: 0.9333 - auc: 0.9348\n",
      "epoch 162 - acc: 0.9360 - auc: 0.9331\n",
      "epoch 172 - acc: 0.9346 - auc: 0.9289\n",
      "epoch 182 - acc: 0.9294 - auc: 0.9273\n",
      "epoch 192 - acc: 0.9385 - auc: 0.9409\n",
      "epoch 202 - acc: 0.9403 - auc: 0.9287\n",
      "epoch 212 - acc: 0.9334 - auc: 0.9346\n",
      "epoch 222 - acc: 0.9451 - auc: 0.9375\n",
      "epoch 232 - acc: 0.9358 - auc: 0.9253\n",
      "epoch 242 - acc: 0.9354 - auc: 0.9327\n",
      "epoch 252 - acc: 0.9342 - auc: 0.9301\n",
      "epoch 262 - acc: 0.9353 - auc: 0.9395\n",
      "epoch 272 - acc: 0.9277 - auc: 0.9298\n",
      "epoch 282 - acc: 0.9352 - auc: 0.9374\n",
      "epoch 292 - acc: 0.9368 - auc: 0.9378\n",
      "epoch 300 - acc: 0.9405 - auc: 0.9374\n"
     ]
    }
   ],
   "source": [
    "epochs = 300\n",
    "step = 0\n",
    "\n",
    "model.train()\n",
    "\n",
    "for epoch in range(epochs):\n",
    "\n",
    "    for batch, label in train_dl:\n",
    "        logit = model(batch).squeeze(-1)\n",
    "        loss = loss_fn(logit, label)\n",
    "\n",
    "        loss.backward()\n",
    "        optimizer.step()\n",
    "        optimizer.zero_grad()\n",
    "\n",
    "        proba = torch.sigmoid(logit)\n",
    "        metric.update(proba, label)\n",
    "        step += 1\n",
    "    scheduler.step()\n",
    "\n",
    "    if (epoch % 10 == 1) or (epoch==epochs-1):\n",
    "        res = metric.compute()\n",
    "        print(f'epoch {epoch+1:>2d} - acc: {res[\"acc\"]:.4f} - auc: {res[\"auc\"]:.4f}')\n",
    "        metric.reset()\n",
    "        torch.save(model.state_dict(), f'./ckpt/epoch{epoch}-{res[\"auc\"]:.4f}.pth')\n"
   ]
  },
  {
   "cell_type": "code",
   "execution_count": 15,
   "id": "68346dc9",
   "metadata": {},
   "outputs": [
    {
     "data": {
      "text/plain": [
       "Sequential(\n",
       "  (0): Linear(in_features=8, out_features=64, bias=False)\n",
       "  (1): Transpose()\n",
       "  (2): ReLU6()\n",
       "  (3): EMA(in_chn=64, length=80)\n",
       "  (4): Transpose()\n",
       "  (5): ReLU6()\n",
       "  (6): Linear(in_features=64, out_features=1, bias=False)\n",
       ")"
      ]
     },
     "execution_count": 15,
     "metadata": {},
     "output_type": "execute_result"
    }
   ],
   "source": [
    "model"
   ]
  },
  {
   "cell_type": "code",
   "execution_count": 14,
   "id": "7a3628ef",
   "metadata": {},
   "outputs": [
    {
     "data": {
      "text/plain": [
       "tensor([0.1497, 0.5854, 0.2912, 0.5000, 0.8639, 0.2013, 0.4864, 0.5199, 0.6250,\n",
       "        0.4718, 0.9034, 0.8661, 0.5589, 0.5672, 0.8898, 0.5437, 0.2005, 0.6158,\n",
       "        0.5408, 0.0230, 0.9072, 0.4784, 0.8509, 0.4257, 0.5043, 0.8145, 0.1796,\n",
       "        0.5348, 0.8724, 0.5836, 0.5419, 0.8934, 0.5584, 0.9504, 0.6122, 0.9176,\n",
       "        0.2484, 0.4015, 0.7118, 0.1777, 0.6884, 0.2774, 0.5411, 0.6919, 0.4585,\n",
       "        0.4447, 0.4474, 0.3540, 0.4767, 0.4748, 0.8927, 0.8342, 0.8278, 0.6744,\n",
       "        0.9054, 0.6385, 0.6868, 0.5670, 0.3053, 0.5882, 0.8954, 0.7668, 0.2954,\n",
       "        0.6239])"
      ]
     },
     "execution_count": 14,
     "metadata": {},
     "output_type": "execute_result"
    }
   ],
   "source": [
    "model[3].alpha.data.flatten()"
   ]
  },
  {
   "cell_type": "markdown",
   "id": "720bd2f5",
   "metadata": {},
   "source": [
    "## Test"
   ]
  },
  {
   "cell_type": "code",
   "execution_count": 8,
   "id": "c942a7a5",
   "metadata": {},
   "outputs": [
    {
     "name": "stdout",
     "output_type": "stream",
     "text": [
      "ATR_GN_P2-240527-30019-2025-09-02-01-3123914-3124287.csv 4 100.0%\n",
      "ATR_GN_P2-240527-30019-2025-09-03-11-4351701-4352882.csv 4 31.6%\n",
      "P1-TP5-0528test-185780-186966.csv 11 100.0%\n"
     ]
    }
   ],
   "source": [
    "dfs = []\n",
    "\n",
    "for path in iglob(r'C:/Users/pontosense/Downloads/Target/test/*.csv'):\n",
    "    path = path.replace('\\\\', '/')\n",
    "    df = pd.read_csv(path, index_col=0)\n",
    "\n",
    "    process_label(df, path)\n",
    "    process_feature(df)\n",
    "\n",
    "    n = df.shape[0] // 80\n",
    "    print(path.split('/')[-1], n, '{:.1%}'.format(df['label'].mean()))\n",
    "\n",
    "    df = df[\n",
    "        ['ln_pts', 'z_iqr', 'z_std', 'z_c', 'range', 'l_r', 's_r', 'dist', 'label']\n",
    "    ].astype('float32').values\n",
    "    for i in range(n):\n",
    "        dfs.append(df[i*80:(i+1)*80])"
   ]
  },
  {
   "cell_type": "code",
   "execution_count": 9,
   "id": "ae44c2bf",
   "metadata": {},
   "outputs": [
    {
     "data": {
      "text/plain": [
       "19"
      ]
     },
     "execution_count": 9,
     "metadata": {},
     "output_type": "execute_result"
    }
   ],
   "source": [
    "len(dfs)"
   ]
  },
  {
   "cell_type": "code",
   "execution_count": 10,
   "id": "6fe8da15",
   "metadata": {},
   "outputs": [],
   "source": [
    "class TestDataset(Dataset):\n",
    "\n",
    "    def __init__(self, dfs):\n",
    "        self.dfs = dfs\n",
    "\n",
    "    def __len__(self):\n",
    "        return len(self.dfs)\n",
    "\n",
    "    def __getitem__(self, idx):\n",
    "        arr = self.dfs[idx]\n",
    "        batch = arr[:, :-1]\n",
    "        label = arr[:, -1]\n",
    "        return batch, label"
   ]
  },
  {
   "cell_type": "code",
   "execution_count": 11,
   "id": "55cfb95e",
   "metadata": {},
   "outputs": [],
   "source": [
    "test_ds = TestDataset(dfs)\n",
    "test_dl = DataLoader(test_ds, batch_size=4, shuffle=False, num_workers=0, drop_last=False)"
   ]
  },
  {
   "cell_type": "code",
   "execution_count": 21,
   "id": "ab00e59c",
   "metadata": {},
   "outputs": [
    {
     "name": "stdout",
     "output_type": "stream",
     "text": [
      "ckpt\\epoch1-0.6142.pth  - acc: 0.8401 - auc: 0.8701\n",
      "ckpt\\epoch101-0.9361.pth  - acc: 0.9033 - auc: 0.9040\n",
      "ckpt\\epoch11-0.7269.pth  - acc: 0.8401 - auc: 0.8801\n",
      "ckpt\\epoch111-0.9327.pth  - acc: 0.9046 - auc: 0.9036\n",
      "ckpt\\epoch121-0.9333.pth  - acc: 0.9072 - auc: 0.9021\n",
      "ckpt\\epoch131-0.9186.pth  - acc: 0.9072 - auc: 0.9017\n",
      "ckpt\\epoch141-0.9304.pth  - acc: 0.9066 - auc: 0.9002\n",
      "ckpt\\epoch151-0.9348.pth  - acc: 0.9059 - auc: 0.8998\n",
      "ckpt\\epoch161-0.9331.pth  - acc: 0.9053 - auc: 0.8993\n",
      "ckpt\\epoch171-0.9289.pth  - acc: 0.9066 - auc: 0.8993\n",
      "ckpt\\epoch181-0.9273.pth  - acc: 0.9066 - auc: 0.8991\n",
      "ckpt\\epoch191-0.9409.pth  - acc: 0.9053 - auc: 0.8991\n",
      "ckpt\\epoch201-0.9287.pth  - acc: 0.9066 - auc: 0.8992\n",
      "ckpt\\epoch21-0.8705.pth  - acc: 0.8401 - auc: 0.9196\n",
      "ckpt\\epoch211-0.9346.pth  - acc: 0.9053 - auc: 0.8990\n",
      "ckpt\\epoch221-0.9375.pth  - acc: 0.9053 - auc: 0.8991\n",
      "ckpt\\epoch231-0.9253.pth  - acc: 0.9053 - auc: 0.8991\n",
      "ckpt\\epoch241-0.9327.pth  - acc: 0.9053 - auc: 0.8991\n",
      "ckpt\\epoch251-0.9301.pth  - acc: 0.9053 - auc: 0.8990\n",
      "ckpt\\epoch261-0.9395.pth  - acc: 0.9053 - auc: 0.8990\n",
      "ckpt\\epoch271-0.9298.pth  - acc: 0.9053 - auc: 0.8990\n",
      "ckpt\\epoch281-0.9374.pth  - acc: 0.9053 - auc: 0.8990\n",
      "ckpt\\epoch291-0.9378.pth  - acc: 0.9053 - auc: 0.8990\n",
      "ckpt\\epoch299-0.9374.pth  - acc: 0.9053 - auc: 0.8990\n",
      "ckpt\\epoch31-0.8996.pth  - acc: 0.8401 - auc: 0.9351\n",
      "ckpt\\epoch41-0.9022.pth  - acc: 0.8401 - auc: 0.9267\n",
      "ckpt\\epoch51-0.9096.pth  - acc: 0.8500 - auc: 0.9178\n",
      "ckpt\\epoch61-0.9173.pth  - acc: 0.8717 - auc: 0.9148\n",
      "ckpt\\epoch71-0.9194.pth  - acc: 0.8796 - auc: 0.9091\n",
      "ckpt\\epoch81-0.9220.pth  - acc: 0.8849 - auc: 0.9085\n",
      "ckpt\\epoch91-0.9289.pth  - acc: 0.9033 - auc: 0.9047\n"
     ]
    }
   ],
   "source": [
    "model.eval()\n",
    "\n",
    "for path in iglob('ckpt/*.pth'):\n",
    "    ckpt = torch.load(path)\n",
    "    model.load_state_dict(ckpt)\n",
    "    s = path.split('\\\\')[-1]\n",
    "\n",
    "    for batch, label in test_dl:\n",
    "        with torch.no_grad():\n",
    "            logit = model(batch).squeeze(-1)\n",
    "            proba = torch.sigmoid(logit)\n",
    "\n",
    "        metric.update(proba, label)\n",
    "\n",
    "    res = metric.compute()\n",
    "    print(f'{s}  - acc: {res[\"acc\"]:.4f} - auc: {res[\"auc\"]:.4f}')\n",
    "    metric.reset()"
   ]
  },
  {
   "cell_type": "code",
   "execution_count": 12,
   "id": "6bfeaa80",
   "metadata": {},
   "outputs": [
    {
     "name": "stdout",
     "output_type": "stream",
     "text": [
      "ckpt/epoch161-0.9331.pth  - acc: 0.9053 - auc: 0.8993\n"
     ]
    }
   ],
   "source": [
    "model.eval()\n",
    "\n",
    "path = 'ckpt/epoch161-0.9331.pth'\n",
    "ckpt = torch.load(path)\n",
    "s = path.split('//')[-1]\n",
    "model.load_state_dict(ckpt)\n",
    "\n",
    "probas = []\n",
    "labels = []\n",
    "for batch, label in test_dl:\n",
    "    with torch.no_grad():\n",
    "        logit = model(batch).squeeze(-1)\n",
    "        proba = torch.sigmoid(logit)\n",
    "\n",
    "    labels.append(label.flatten().numpy())\n",
    "    probas.append(proba.flatten().numpy())\n",
    "    metric.update(proba, label)\n",
    "\n",
    "res = metric.compute()\n",
    "print(f'{s}  - acc: {res[\"acc\"]:.4f} - auc: {res[\"auc\"]:.4f}')\n",
    "metric.reset()"
   ]
  },
  {
   "cell_type": "code",
   "execution_count": 13,
   "id": "a1747742",
   "metadata": {},
   "outputs": [],
   "source": [
    "probas = np.concat(probas)\n",
    "y_true = np.concat(labels)"
   ]
  },
  {
   "cell_type": "code",
   "execution_count": 14,
   "id": "8090ba77",
   "metadata": {},
   "outputs": [
    {
     "data": {
      "text/plain": [
       "array([[ 170,   73],\n",
       "       [  76, 1201]])"
      ]
     },
     "execution_count": 14,
     "metadata": {},
     "output_type": "execute_result"
    }
   ],
   "source": [
    "from sklearn.metrics import confusion_matrix\n",
    "\n",
    "confusion_matrix(y_true, probas>0.6)"
   ]
  },
  {
   "cell_type": "code",
   "execution_count": null,
   "id": "2d76a45e",
   "metadata": {},
   "outputs": [],
   "source": [
    "[(0, 2.5), (2.5, 3), (5.5, 2)]"
   ]
  },
  {
   "cell_type": "code",
   "execution_count": 15,
   "id": "f32cd2c3",
   "metadata": {},
   "outputs": [],
   "source": [
    "arr = np.asarray([1, 1, 1, 0, 0, 0, 1, 1])\n",
    "\n",
    "def pre_broken_barh(arr):\n",
    "    diff = np.where(np.diff(arr)!=0)[0]\n",
    "    colors = []\n",
    "    xranges = []\n",
    "\n",
    "    for i, j in enumerate(np.r_[-1, diff]):\n",
    "        colors.append(f'C{arr[j+1]}')\n",
    "        if i == 0:\n",
    "            xranges.append((0, float(diff[0])+0.5))\n",
    "            continue\n",
    "        elif i < len(diff):\n",
    "            i = float(diff[i])\n",
    "        else:\n",
    "            i = float(len(arr)-1)\n",
    "\n",
    "        j = float(j)\n",
    "        xranges.append((j+.5, i-j))\n",
    "    return xranges, colors\n"
   ]
  },
  {
   "cell_type": "code",
   "execution_count": 23,
   "id": "b14da46a",
   "metadata": {},
   "outputs": [],
   "source": [
    "df = pd.read_csv('C:/Users/pontosense/Downloads/Target/test2/ATR_GN_P2-240527-30019-2025-09-02-01-3123914-3124977_res.csv').loc[:320-1]\n",
    "df = pd.concat(\n",
    "    [df,\n",
    "    pd.read_csv('C:/Users/pontosense/Downloads/Target/test2/ATR_GN_P2-240527-30019-09-03-11-4351701-4353067_res.csv').loc[:320-1]],\n",
    "    ignore_index=True\n",
    ")\n",
    "df = pd.concat(\n",
    "    [df,\n",
    "    pd.read_csv('C:/Users/pontosense/Downloads/Target/test2/P1-TP5-0528test-185780-186966_res.csv').loc[:880-1]],\n",
    "    ignore_index=True\n",
    ")\n"
   ]
  },
  {
   "cell_type": "code",
   "execution_count": null,
   "id": "36366634",
   "metadata": {},
   "outputs": [
    {
     "data": {
      "text/plain": [
       "array([1., 1., 1., ..., 1., 1., 1.], dtype=float32)"
      ]
     },
     "execution_count": 25,
     "metadata": {},
     "output_type": "execute_result"
    }
   ],
   "source": []
  },
  {
   "cell_type": "code",
   "execution_count": 31,
   "id": "3a90b561",
   "metadata": {},
   "outputs": [
    {
     "data": {
      "image/png": "[encoded data removed]",
      "text/plain": [
       "<Figure size 1000x300 with 1 Axes>"
      ]
     },
     "metadata": {},
     "output_type": "display_data"
    }
   ],
   "source": [
    "import matplotlib.pyplot as plt\n",
    "\n",
    "fig, ax = plt.subplots(figsize=(10, 3))\n",
    "\n",
    "xranges, colors = pre_broken_barh(df['pred'].astype(int))\n",
    "ax.broken_barh(xranges,  (.2, .6), facecolors=colors)\n",
    "xranges, colors = pre_broken_barh((probas>0.6).astype(int))\n",
    "ax.broken_barh(xranges,  (1.2, .6), facecolors=colors)\n",
    "xranges, colors = pre_broken_barh(y_true.astype(int))\n",
    "ax.broken_barh(xranges,  (2.2, .6), facecolors=colors)\n",
    "\n",
    "# 设置坐标范围与样式\n",
    "ax.set_xlim(0, len(y_true))\n",
    "ax.set_ylim(-0.5, 3.5)\n",
    "ax.set_yticks([0.5, 1.5, 2.5], ['RF-PRED', 'RNN-PRED', 'GT'])\n",
    "# ax.set_xlabel(\"Time\")\n",
    "\n",
    "plt.tight_layout()\n",
    "plt.show()"
   ]
  }
 ],
 "metadata": {
  "kernelspec": {
   "display_name": "py311",
   "language": "python",
   "name": "python3"
  },
  "language_info": {
   "codemirror_mode": {
    "name": "ipython",
    "version": 3
   },
   "file_extension": ".py",
   "mimetype": "text/x-python",
   "name": "python",
   "nbconvert_exporter": "python",
   "pygments_lexer": "ipython3",
   "version": "3.11.11"
  }
 },
 "nbformat": 4,
 "nbformat_minor": 5
}
