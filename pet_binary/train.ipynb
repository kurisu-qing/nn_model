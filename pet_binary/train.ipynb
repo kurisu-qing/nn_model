{
 "cells": [
  {
   "cell_type": "markdown",
   "id": "a6ea87bb",
   "metadata": {},
   "source": [
    "## Init"
   ]
  },
  {
   "cell_type": "code",
   "execution_count": 1,
   "id": "d77b4dc5-58bd-46b9-a011-6cffc180b4f5",
   "metadata": {},
   "outputs": [],
   "source": [
    "import torch\n",
    "import numpy as np\n",
    "import pandas as pd\n",
    "import torch.nn as nn\n",
    "\n",
    "from glob import iglob\n"
   ]
  },
  {
   "cell_type": "code",
   "execution_count": 2,
   "id": "e474838f",
   "metadata": {},
   "outputs": [],
   "source": [
    "from utils import (\n",
    "    process_label,\n",
    "    process_feature\n",
    ")"
   ]
  },
  {
   "cell_type": "markdown",
   "id": "354c9196",
   "metadata": {},
   "source": [
    "### Dataset"
   ]
  },
  {
   "cell_type": "code",
   "execution_count": 3,
   "id": "3c77b086",
   "metadata": {},
   "outputs": [],
   "source": [
    "from torch.utils.data import (\n",
    "    Dataset,\n",
    "    DataLoader\n",
    ")"
   ]
  },
  {
   "cell_type": "code",
   "execution_count": 4,
   "id": "9f66631f",
   "metadata": {},
   "outputs": [
    {
     "name": "stdout",
     "output_type": "stream",
     "text": [
      "ATR_GN_P2-240527-30019-2025-08-31-00-1384880-1388055.csv 24 97.6%\n",
      "ATR_GN_P2-240527-30019-2025-09-02-00-3097855-3098844.csv 8 98.0%\n",
      "ATR_GN_P2-240527-30019-2025-09-02-09-3427349-3428726.csv 7 30.3%\n",
      "ATR_GN_P2-240527-30019-2025-09-16-19-3898000-3901019.csv 12 0.0%\n",
      "ATR_GN_P2-240601-00069-2025-08-27-15-181634-185130.csv 28 61.5%\n",
      "ATR_GN_P2-240601-00069-2025-08-29-04-713100-716599.csv 29 98.6%\n",
      "ATR_GN_P2-240601-00069-2025-09-11-01-1512887-1514137.csv 5 0.0%\n",
      "ATR_GN_P4-241029-00016-2025-09-01-07-2584784-2591384.csv 49 97.7%\n",
      "ATR_GN_P4-250120-00138-2025-09-04-15-372127-373946.csv 14 95.0%\n",
      "ATR_GN_P4-250120-00138-2025-09-07-15-2969150-2970732.csv 13 98.3%\n",
      "ATR_GN_P4-250120-00138-2025-09-07-20-3155534-3159779.csv 20 3.2%\n",
      "ATR_GN_P4-250120-00172-2025-09-01-03-7698018-7703053.csv 18 100.0%\n",
      "P1-TP5-0528test-170695-173549.csv 17 99.8%\n",
      "P1-TP5-0528test-199959-202507.csv 12 95.8%\n",
      "P1-TP5-0528test-203583-205322.csv 13 99.4%\n",
      "total: 269 79.2%\n"
     ]
    }
   ],
   "source": [
    "dfs = []\n",
    "num = 0\n",
    "score = 0\n",
    "\n",
    "for path in iglob('./dataset/train/*.csv'):\n",
    "    path = path.replace('\\\\', '/')\n",
    "    df = pd.read_csv(path, index_col=0)\n",
    "\n",
    "    process_label(df, path)\n",
    "    process_feature(df)\n",
    "\n",
    "    n = round(df.shape[0] / 120)\n",
    "    print(path.split('/')[-1], n, '{:.1%}'.format(df['label'].mean()))\n",
    "\n",
    "    num += n\n",
    "    score += df['label'].mean() * n\n",
    "\n",
    "    df = df[\n",
    "        ['ln_pts', 'z_iqr', 'z_std', 'z_c', 'range', 'l_r', 's_r', 'dist', 'label']\n",
    "    ].astype('float32').values\n",
    "    for i in range(n):\n",
    "        dfs.append(df)\n",
    "\n",
    "print('total:',num, '{:.1%}'.format(score/num))"
   ]
  },
  {
   "cell_type": "code",
   "execution_count": 5,
   "id": "d7f2cbdc",
   "metadata": {},
   "outputs": [],
   "source": [
    "class TrainDataset(Dataset):\n",
    "\n",
    "    def __init__(self, dfs):\n",
    "        self.dfs = dfs\n",
    "\n",
    "    def __len__(self):\n",
    "        return len(self.dfs)\n",
    "\n",
    "    def __getitem__(self, idx):\n",
    "        arr = self.dfs[idx]\n",
    "        jdx = np.random.choice(arr.shape[0]-79, 1)[0]\n",
    "        batch = arr[jdx:jdx+80, :-1]\n",
    "        label = arr[jdx:jdx+80, -1]\n",
    "        return batch, label\n"
   ]
  },
  {
   "cell_type": "code",
   "execution_count": 6,
   "id": "ab8b532f",
   "metadata": {},
   "outputs": [],
   "source": [
    "np.random.seed(2025)\n",
    "torch.manual_seed(2025)\n",
    "\n",
    "train_ds = TrainDataset(dfs)\n",
    "train_dl = DataLoader(train_ds, batch_size=16, shuffle=True, num_workers=0, drop_last=True)"
   ]
  },
  {
   "cell_type": "code",
   "execution_count": 7,
   "id": "c942a7a5",
   "metadata": {},
   "outputs": [
    {
     "name": "stdout",
     "output_type": "stream",
     "text": [
      "ATR_GN_P2-240527-30019-2025-09-02-01-3123914-3124287.csv 4 28.0%\n",
      "ATR_GN_P2-240527-30019-2025-09-03-11-4351701-4352882.csv 4 31.6%\n",
      "ATR_GN_P2-240527-30019-2025-09-18-05-5132024-5133107.csv 3 77.1%\n",
      "P1-TP5-0528test-185780-186966.csv 11 100.0%\n"
     ]
    },
    {
     "data": {
      "text/plain": [
       "22"
      ]
     },
     "execution_count": 7,
     "metadata": {},
     "output_type": "execute_result"
    }
   ],
   "source": [
    "dfs = []\n",
    "\n",
    "for path in iglob('./dataset/test/*.csv'):\n",
    "    path = path.replace('\\\\', '/')\n",
    "    df = pd.read_csv(path, index_col=0)\n",
    "\n",
    "    process_label(df, path)\n",
    "    process_feature(df)\n",
    "\n",
    "    n = df.shape[0] // 80\n",
    "    print(path.split('/')[-1], n, '{:.1%}'.format(df['label'].mean()))\n",
    "\n",
    "    df = df[\n",
    "        ['ln_pts', 'z_iqr', 'z_std', 'z_c', 'range', 'l_r', 's_r', 'dist', 'label']\n",
    "    ].astype('float32').values\n",
    "    for i in range(n):\n",
    "        dfs.append(df[i*80:(i+1)*80])\n",
    "\n",
    "len(dfs)"
   ]
  },
  {
   "cell_type": "code",
   "execution_count": 8,
   "id": "6fe8da15",
   "metadata": {},
   "outputs": [],
   "source": [
    "class TestDataset(Dataset):\n",
    "\n",
    "    def __init__(self, dfs):\n",
    "        self.dfs = dfs\n",
    "\n",
    "    def __len__(self):\n",
    "        return len(self.dfs)\n",
    "\n",
    "    def __getitem__(self, idx):\n",
    "        arr = self.dfs[idx]\n",
    "        batch = arr[:, :-1]\n",
    "        label = arr[:, -1]\n",
    "        return batch, label"
   ]
  },
  {
   "cell_type": "code",
   "execution_count": 9,
   "id": "55cfb95e",
   "metadata": {},
   "outputs": [],
   "source": [
    "test_ds = TestDataset(dfs)\n",
    "test_dl = DataLoader(test_ds, batch_size=4, shuffle=False, num_workers=0, drop_last=False)"
   ]
  },
  {
   "cell_type": "markdown",
   "id": "00558a6a",
   "metadata": {},
   "source": [
    "## Model"
   ]
  },
  {
   "cell_type": "code",
   "execution_count": 10,
   "id": "608d84ef",
   "metadata": {},
   "outputs": [],
   "source": [
    "from torchinfo import summary\n",
    "\n",
    "from layers import (\n",
    "    EMA,\n",
    "    Transpose\n",
    ")"
   ]
  },
  {
   "cell_type": "code",
   "execution_count": 11,
   "id": "9b870088",
   "metadata": {},
   "outputs": [
    {
     "data": {
      "text/plain": [
       "===================================================================================================================\n",
       "Layer (type:depth-idx)                   Input Shape               Output Shape              Param #\n",
       "===================================================================================================================\n",
       "Sequential                               [2, 80, 8]                [2, 80, 1]                --\n",
       "├─Linear: 1-1                            [2, 80, 8]                [2, 80, 64]               512\n",
       "├─Transpose: 1-2                         [2, 80, 64]               [2, 64, 80]               --\n",
       "├─EMA: 1-3                               [2, 64, 80]               [2, 64, 80]               128\n",
       "├─Transpose: 1-4                         [2, 64, 80]               [2, 80, 64]               --\n",
       "├─ReLU6: 1-5                             [2, 80, 64]               [2, 80, 64]               --\n",
       "├─Linear: 1-6                            [2, 80, 64]               [2, 80, 1]                64\n",
       "===================================================================================================================\n",
       "Total params: 704\n",
       "Trainable params: 704\n",
       "Non-trainable params: 0\n",
       "Total mult-adds (Units.MEGABYTES): 0.00\n",
       "===================================================================================================================\n",
       "Input size (MB): 0.01\n",
       "Forward/backward pass size (MB): 0.17\n",
       "Params size (MB): 0.00\n",
       "Estimated Total Size (MB): 0.17\n",
       "==================================================================================================================="
      ]
     },
     "execution_count": 11,
     "metadata": {},
     "output_type": "execute_result"
    }
   ],
   "source": [
    "hs = 64\n",
    "\n",
    "model = nn.Sequential(\n",
    "    nn.Linear(8, hs, bias=False),\n",
    "    Transpose(),\n",
    "    EMA(hs, length=80),\n",
    "    Transpose(),\n",
    "    nn.ReLU6(),\n",
    "    # nn.Linear(hs, hs//2, bias=False),\n",
    "    # nn.ReLU6(),\n",
    "    nn.Linear(hs, 1, bias=False)\n",
    ")\n",
    "\n",
    "summary(model, (2, 80, 8), col_names=['input_size', 'output_size', 'num_params'])"
   ]
  },
  {
   "cell_type": "markdown",
   "id": "18b89a8e",
   "metadata": {},
   "source": [
    "### Metric"
   ]
  },
  {
   "cell_type": "code",
   "execution_count": 12,
   "id": "f7eb6a0f",
   "metadata": {},
   "outputs": [],
   "source": [
    "from torchmetrics import MetricCollection\n",
    "from torchmetrics.classification import (\n",
    "    BinaryAccuracy,\n",
    "    BinaryAUROC\n",
    ")"
   ]
  },
  {
   "cell_type": "code",
   "execution_count": 13,
   "id": "d1c49c57",
   "metadata": {},
   "outputs": [],
   "source": [
    "# criterion\n",
    "loss_fn = nn.BCEWithLogitsLoss()\n",
    "optimizer = torch.optim.AdamW(model.parameters(), lr=1e-3, weight_decay=1e-3)\n",
    "scheduler = torch.optim.lr_scheduler.StepLR(optimizer, step_size=10, gamma=.1**.5)\n",
    "\n",
    "metric = MetricCollection({'acc':BinaryAccuracy(), 'auc':BinaryAUROC()})"
   ]
  },
  {
   "cell_type": "markdown",
   "id": "baab1e2d",
   "metadata": {},
   "source": [
    "## Train"
   ]
  },
  {
   "cell_type": "code",
   "execution_count": 14,
   "id": "4e8228e6",
   "metadata": {},
   "outputs": [
    {
     "name": "stdout",
     "output_type": "stream",
     "text": [
      "epoch  1 - acc: 0.7121 - auc: 0.5919\n",
      "epoch  2 - acc: 0.7988 - auc: 0.6696\n",
      "epoch  3 - acc: 0.8042 - auc: 0.8000\n",
      "epoch  4 - acc: 0.8044 - auc: 0.8780\n",
      "epoch  5 - acc: 0.7944 - auc: 0.8382\n",
      "epoch  6 - acc: 0.7984 - auc: 0.8523\n",
      "epoch  7 - acc: 0.8136 - auc: 0.8775\n",
      "epoch  8 - acc: 0.7942 - auc: 0.8689\n",
      "epoch  9 - acc: 0.8057 - auc: 0.8901\n",
      "epoch 10 - acc: 0.8121 - auc: 0.9170\n",
      "epoch 11 - acc: 0.7891 - auc: 0.9134\n",
      "epoch 12 - acc: 0.7920 - auc: 0.9063\n",
      "epoch 13 - acc: 0.8024 - auc: 0.9002\n",
      "epoch 14 - acc: 0.7907 - auc: 0.8950\n",
      "epoch 15 - acc: 0.7951 - auc: 0.9218\n",
      "epoch 16 - acc: 0.7924 - auc: 0.9402\n",
      "epoch 17 - acc: 0.8007 - auc: 0.9005\n",
      "epoch 18 - acc: 0.7930 - auc: 0.9361\n",
      "epoch 19 - acc: 0.7902 - auc: 0.9152\n",
      "epoch 20 - acc: 0.7929 - auc: 0.8929\n",
      "epoch 21 - acc: 0.7774 - auc: 0.9119\n",
      "epoch 22 - acc: 0.7837 - auc: 0.9173\n",
      "epoch 23 - acc: 0.7877 - auc: 0.9084\n",
      "epoch 24 - acc: 0.7950 - auc: 0.9130\n",
      "epoch 25 - acc: 0.7986 - auc: 0.8710\n",
      "epoch 26 - acc: 0.7885 - auc: 0.8973\n",
      "epoch 27 - acc: 0.7904 - auc: 0.9171\n",
      "epoch 28 - acc: 0.7879 - auc: 0.9053\n",
      "epoch 29 - acc: 0.8037 - auc: 0.9192\n"
     ]
    }
   ],
   "source": [
    "epochs = 29\n",
    "step = 0\n",
    "\n",
    "model.train()\n",
    "\n",
    "for epoch in range(epochs):\n",
    "\n",
    "    for batch, label in train_dl:\n",
    "        logit = model(batch).squeeze(-1)\n",
    "        loss = loss_fn(logit, label)\n",
    "\n",
    "        loss.backward()\n",
    "        optimizer.step()\n",
    "        optimizer.zero_grad()\n",
    "\n",
    "        proba = torch.sigmoid(logit)\n",
    "        metric.update(proba, label)\n",
    "        step += 1\n",
    "    scheduler.step()\n",
    "\n",
    "    # if (epoch % 2 == 1) or (epoch==epochs-1):\n",
    "    res = metric.compute()\n",
    "    print(f'epoch {epoch+1:>2d} - acc: {res[\"acc\"]:.4f} - auc: {res[\"auc\"]:.4f}')\n",
    "    metric.reset()\n",
    "    torch.save(model.state_dict(), f'./ckpt/epoch{epoch+1:02d}-{res[\"auc\"]:.4f}.pth')\n"
   ]
  },
  {
   "cell_type": "code",
   "execution_count": 19,
   "id": "ab00e59c",
   "metadata": {},
   "outputs": [],
   "source": [
    "model.eval()\n",
    "metric.reset()\n",
    "\n",
    "for path in iglob('ckpt/*.pth'):\n",
    "    ckpt = torch.load(path)\n",
    "    model.load_state_dict(ckpt)\n",
    "    s = path.split('\\\\')[-1]\n",
    "\n",
    "    for batch, label in test_dl:\n",
    "        with torch.no_grad():\n",
    "            logit = model(batch).squeeze(-1)\n",
    "            proba = torch.sigmoid(logit)\n",
    "\n",
    "        metric.update(proba, label)\n",
    "\n",
    "    res = metric.compute()\n",
    "    print(f'{s}  - acc: {res[\"acc\"]:.4f} - auc: {res[\"auc\"]:.4f}')\n",
    "    metric.reset()"
   ]
  },
  {
   "cell_type": "markdown",
   "id": "720bd2f5",
   "metadata": {},
   "source": [
    "## Test"
   ]
  },
  {
   "cell_type": "code",
   "execution_count": 17,
   "id": "03a587b7",
   "metadata": {},
   "outputs": [],
   "source": [
    "from sklearn.metrics import confusion_matrix"
   ]
  },
  {
   "cell_type": "code",
   "execution_count": 15,
   "id": "6bfeaa80",
   "metadata": {},
   "outputs": [
    {
     "name": "stdout",
     "output_type": "stream",
     "text": [
      "ckpt/raw/epoch13-0.9202.pth  - acc: 0.7233 - auc: 0.9769\n"
     ]
    }
   ],
   "source": [
    "model.eval()\n",
    "metric.reset()\n",
    "\n",
    "path = 'ckpt/raw/epoch13-0.9202.pth'\n",
    "ckpt = torch.load(path)\n",
    "s = path.split('//')[-1]\n",
    "model.load_state_dict(ckpt)\n",
    "\n",
    "probas = []\n",
    "labels = []\n",
    "for batch, label in test_dl:\n",
    "    with torch.no_grad():\n",
    "        logit = model(batch).squeeze(-1)\n",
    "        proba = torch.sigmoid(logit)\n",
    "\n",
    "    labels.append(label.flatten().numpy())\n",
    "    probas.append(proba.flatten().numpy())\n",
    "    metric.update(proba, label)\n",
    "\n",
    "res = metric.compute()\n",
    "print(f'{s}  - acc: {res[\"acc\"]:.4f} - auc: {res[\"auc\"]:.4f}')\n",
    "metric.reset()\n",
    "\n",
    "probas = np.concat(probas)\n",
    "y_true = np.concat(labels)"
   ]
  },
  {
   "cell_type": "code",
   "execution_count": 29,
   "id": "a1747742",
   "metadata": {},
   "outputs": [
    {
     "data": {
      "text/plain": [
       "array([[ 387,  100],\n",
       "       [   9, 1264]])"
      ]
     },
     "execution_count": 29,
     "metadata": {},
     "output_type": "execute_result"
    }
   ],
   "source": [
    "y_pred = probas>0.76\n",
    "confusion_matrix(y_true, y_pred)"
   ]
  },
  {
   "cell_type": "code",
   "execution_count": 30,
   "id": "1ac0a1b7",
   "metadata": {},
   "outputs": [
    {
     "data": {
      "text/plain": [
       "array([[0.79466119, 0.20533881],\n",
       "       [0.00706991, 0.99293009]])"
      ]
     },
     "execution_count": 30,
     "metadata": {},
     "output_type": "execute_result"
    }
   ],
   "source": [
    "confusion_matrix(y_true, y_pred, normalize='true')"
   ]
  },
  {
   "cell_type": "markdown",
   "id": "5cea0367",
   "metadata": {},
   "source": [
    "## Result"
   ]
  },
  {
   "cell_type": "code",
   "execution_count": 31,
   "id": "edfdba4c",
   "metadata": {},
   "outputs": [],
   "source": [
    "import matplotlib.pyplot as plt\n",
    "import matplotlib.patches as mpatches\n"
   ]
  },
  {
   "cell_type": "code",
   "execution_count": 32,
   "id": "f32cd2c3",
   "metadata": {},
   "outputs": [],
   "source": [
    "arr = np.asarray([1, 1, 1, 0, 0, 0, 1, 1])\n",
    "\n",
    "def pre_broken_barh(arr):\n",
    "    diff = np.where(np.diff(arr)!=0)[0]\n",
    "    colors = []\n",
    "    xranges = []\n",
    "\n",
    "    for i, j in enumerate(np.r_[-1, diff]):\n",
    "        colors.append(f'C{arr[j+1]}')\n",
    "        if i == 0:\n",
    "            xranges.append((0, float(diff[0])+0.5))\n",
    "            continue\n",
    "        elif i < len(diff):\n",
    "            i = float(diff[i])\n",
    "        else:\n",
    "            i = float(len(arr)-1)\n",
    "\n",
    "        j = float(j)\n",
    "        xranges.append((j+.5, i-j))\n",
    "    return xranges, colors\n"
   ]
  },
  {
   "cell_type": "code",
   "execution_count": null,
   "id": "b14da46a",
   "metadata": {},
   "outputs": [],
   "source": [
    "# df = pd.read_csv('C:/Users/pontosense/Downloads/Target/test2/ATR_GN_P2-240527-30019-2025-09-02-01-3123914-3124977_res.csv').loc[:320-1]\n",
    "# df = pd.concat(\n",
    "#     [df,\n",
    "#     pd.read_csv('C:/Users/pontosense/Downloads/Target/test2/ATR_GN_P2-240527-30019-09-03-11-4351701-4353067_res.csv').loc[:320-1]],\n",
    "#     ignore_index=True\n",
    "# )\n",
    "# df = pd.concat(\n",
    "#     [df,\n",
    "#     pd.read_csv('C:/Users/pontosense/Downloads/Target/test2/P1-TP5-0528test-185780-186966_res.csv').loc[:880-1]],\n",
    "#     ignore_index=True\n",
    "# )\n",
    "\n",
    "# xranges, colors = pre_broken_barh(df['pred'].astype(int))\n",
    "# ax.broken_barh(xranges,  (.2, .6), facecolors=colors)\n"
   ]
  },
  {
   "cell_type": "code",
   "execution_count": 35,
   "id": "3a90b561",
   "metadata": {},
   "outputs": [
    {
     "data": {
      "image/png": "[encoded data removed]",
      "text/plain": [
       "<Figure size 1000x300 with 1 Axes>"
      ]
     },
     "metadata": {},
     "output_type": "display_data"
    }
   ],
   "source": [
    "fig, ax = plt.subplots(figsize=(10, 3))\n",
    "\n",
    "xranges, colors = pre_broken_barh((y_pred).astype(int))\n",
    "ax.broken_barh(xranges,  (0.2, .6), facecolors=colors)\n",
    "xranges, colors = pre_broken_barh(y_true.astype(int))\n",
    "ax.broken_barh(xranges,  (1.2, .6), facecolors=colors)\n",
    "\n",
    "# 设置坐标范围与样式\n",
    "ax.set_xlim(0, len(y_true))\n",
    "ax.set_ylim(-0.5, 2.6)\n",
    "ax.set_yticks([0.5, 1.5], ['PRED', 'GT'])\n",
    "ax.set_xlabel(\"Frame\")\n",
    "\n",
    "pet_patch = mpatches.Patch(color='C0', label='pet')\n",
    "person_patch = mpatches.Patch(color='C1', label='person')\n",
    "ax.legend(handles=[pet_patch, person_patch], loc='upper center', ncols=2)\n",
    "\n",
    "plt.tight_layout()\n",
    "plt.show()"
   ]
  }
 ],
 "metadata": {
  "kernelspec": {
   "display_name": "py311",
   "language": "python",
   "name": "python3"
  },
  "language_info": {
   "codemirror_mode": {
    "name": "ipython",
    "version": 3
   },
   "file_extension": ".py",
   "mimetype": "text/x-python",
   "name": "python",
   "nbconvert_exporter": "python",
   "pygments_lexer": "ipython3",
   "version": "3.11.11"
  }
 },
 "nbformat": 4,
 "nbformat_minor": 5
}
