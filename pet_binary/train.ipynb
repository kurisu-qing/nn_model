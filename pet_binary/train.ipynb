{
 "cells": [
  {
   "cell_type": "markdown",
   "id": "a6ea87bb",
   "metadata": {},
   "source": [
    "## Read"
   ]
  },
  {
   "cell_type": "code",
   "execution_count": 1,
   "id": "d77b4dc5-58bd-46b9-a011-6cffc180b4f5",
   "metadata": {},
   "outputs": [],
   "source": [
    "import torch\n",
    "import numpy as np\n",
    "import pandas as pd\n",
    "import torch.nn as nn\n",
    "\n",
    "from glob import iglob"
   ]
  },
  {
   "cell_type": "code",
   "execution_count": 2,
   "id": "e474838f",
   "metadata": {},
   "outputs": [],
   "source": [
    "def process_label(df, path):\n",
    "    df['label'] = 2\n",
    "    path = path.rstrip('.csv')\n",
    "    path = f'{path}.txt'\n",
    "    with open(path, 'r') as fr:\n",
    "        lines = fr.readlines()\n",
    "        for i, line in enumerate(lines[:-1]):\n",
    "            line = line.rstrip('\\n').split(',')\n",
    "            j, l = int(line[0]), int(line[1])\n",
    "            k = int(lines[i+1].split(',')[0]) - 1\n",
    "            if k<j:\n",
    "                print(k)\n",
    "            df.loc[j:k, 'label'] = l\n",
    "\n",
    "        line = lines[-1].rstrip('\\n').split(',')\n",
    "        j, l = int(line[0]), int(line[1])\n",
    "        df.loc[j:, 'label'] = 1\n",
    "\n",
    "\n",
    "def process_feature(df):\n",
    "    df['ln_pts'] = np.log(df['pts']+1)\n",
    "    df['ln_dyn'] = np.log(df['pts_dyn']+1)\n",
    "    df['ln_sta'] = np.log(df['pts']-df['pts_dyn']+1)\n",
    "\n",
    "    df['z_iqr'] = df['z_q3'] - df['z_q1']\n",
    "\n",
    "    df['range'] = np.sqrt(np.square(df['x_c'])+np.square(df['y_c']))\n",
    "\n",
    "    df['dx'] = df['x_c'].diff().fillna(0)\n",
    "    df['dy'] = df['y_c'].diff().fillna(0)\n",
    "    df['dist'] = np.sqrt(np.square(df['dx'])+np.square(df['dy']))\n",
    "\n",
    "    df.reset_index(inplace=True)\n"
   ]
  },
  {
   "cell_type": "code",
   "execution_count": 3,
   "id": "9f66631f",
   "metadata": {},
   "outputs": [
    {
     "name": "stdout",
     "output_type": "stream",
     "text": [
      "ATR_GN_P2-240527-30019-2025-08-31-00-1384880-1388055.csv 24 98.1%\n",
      "ATR_GN_P2-240527-30019-2025-09-02-00-3097855-3098844.csv 8 98.0%\n",
      "ATR_GN_P2-240527-30019-2025-09-02-09-3427349-3428726.csv 7 100.0%\n",
      "ATR_GN_P2-240601-00069-2025-08-27-15-181634-185130.csv 28 77.2%\n",
      "ATR_GN_P2-240601-00069-2025-08-29-04-713100-716599.csv 29 98.6%\n",
      "ATR_GN_P4-241029-00016-2025-09-01-07-2584784-2591384.csv 49 97.7%\n",
      "ATR_GN_P4-250120-00138-2025-09-04-15-372127-373946.csv 14 95.0%\n",
      "ATR_GN_P4-250120-00138-2025-09-07-15-2969150-2970732.csv 13 99.1%\n",
      "ATR_GN_P4-250120-00138-2025-09-07-20-3155534-3159779.csv 20 7.1%\n",
      "ATR_GN_P4-250120-00172-2025-09-01-03-7698018-7703053.csv 18 100.0%\n",
      "P1-TP5-0528test-170695-173549.csv 17 99.8%\n",
      "P1-TP5-0528test-199959-202507.csv 12 95.8%\n",
      "P1-TP5-0528test-203583-205322.csv 13 99.4%\n"
     ]
    }
   ],
   "source": [
    "dfs = []\n",
    "\n",
    "for path in iglob(r'C:/Users/pontosense/Downloads/Target/*.csv'):\n",
    "    path = path.replace('\\\\', '/')\n",
    "    df = pd.read_csv(path, index_col=0)\n",
    "\n",
    "    process_label(df, path)\n",
    "    process_feature(df)\n",
    "\n",
    "    n = round(df.shape[0] / 120)\n",
    "    print(path.split('/')[-1], n, '{:.1%}'.format(df['label'].mean()))\n",
    "\n",
    "    df = df[\n",
    "        ['ln_pts', 'z_iqr', 'z_std', 'z_c', 'range', 'l_r', 's_r', 'dist', 'label']\n",
    "    ].astype('float32').values\n",
    "    for i in range(n):\n",
    "        dfs.append(df)"
   ]
  },
  {
   "cell_type": "markdown",
   "id": "354c9196",
   "metadata": {},
   "source": [
    "## Dataset & Dataloader"
   ]
  },
  {
   "cell_type": "code",
   "execution_count": 4,
   "id": "3c77b086",
   "metadata": {},
   "outputs": [],
   "source": [
    "from torch.utils.data import (\n",
    "    Dataset,\n",
    "    DataLoader\n",
    ")"
   ]
  },
  {
   "cell_type": "code",
   "execution_count": 5,
   "id": "d7f2cbdc",
   "metadata": {},
   "outputs": [],
   "source": [
    "class TrainDataset(Dataset):\n",
    "\n",
    "    def __init__(self, dfs):\n",
    "        self.dfs = dfs\n",
    "\n",
    "    def __len__(self):\n",
    "        return len(self.dfs)\n",
    "\n",
    "    def __getitem__(self, idx):\n",
    "        arr = self.dfs[idx]\n",
    "        jdx = np.random.choice(arr.shape[0]-79, 1)[0]\n",
    "        batch = arr[jdx:jdx+80, :-1]\n",
    "        label = arr[jdx:jdx+80, -1]\n",
    "        return batch, label\n"
   ]
  },
  {
   "cell_type": "code",
   "execution_count": 6,
   "id": "ab8b532f",
   "metadata": {},
   "outputs": [],
   "source": [
    "np.random.seed(2025)\n",
    "torch.manual_seed(2025)\n",
    "\n",
    "train_ds = TrainDataset(dfs)\n",
    "train_dl = DataLoader(train_ds, batch_size=16, shuffle=True, num_workers=0, drop_last=True)"
   ]
  },
  {
   "cell_type": "markdown",
   "id": "00558a6a",
   "metadata": {},
   "source": [
    "## Model"
   ]
  },
  {
   "cell_type": "code",
   "execution_count": 7,
   "id": "608d84ef",
   "metadata": {},
   "outputs": [],
   "source": [
    "from torchinfo import summary\n",
    "\n",
    "from layers import (\n",
    "    EMA,\n",
    "    Transpose\n",
    ")"
   ]
  },
  {
   "cell_type": "code",
   "execution_count": 8,
   "id": "9b870088",
   "metadata": {},
   "outputs": [
    {
     "data": {
      "text/plain": [
       "===================================================================================================================\n",
       "Layer (type:depth-idx)                   Input Shape               Output Shape              Param #\n",
       "===================================================================================================================\n",
       "Sequential                               [2, 80, 8]                [2, 80, 1]                --\n",
       "├─Linear: 1-1                            [2, 80, 8]                [2, 80, 64]               512\n",
       "├─Transpose: 1-2                         [2, 80, 64]               [2, 64, 80]               --\n",
       "├─ReLU6: 1-3                             [2, 64, 80]               [2, 64, 80]               --\n",
       "├─EMA: 1-4                               [2, 64, 80]               [2, 64, 80]               128\n",
       "├─Transpose: 1-5                         [2, 64, 80]               [2, 80, 64]               --\n",
       "├─ReLU6: 1-6                             [2, 80, 64]               [2, 80, 64]               --\n",
       "├─Linear: 1-7                            [2, 80, 64]               [2, 80, 1]                64\n",
       "===================================================================================================================\n",
       "Total params: 704\n",
       "Trainable params: 704\n",
       "Non-trainable params: 0\n",
       "Total mult-adds (Units.MEGABYTES): 0.00\n",
       "===================================================================================================================\n",
       "Input size (MB): 0.01\n",
       "Forward/backward pass size (MB): 0.17\n",
       "Params size (MB): 0.00\n",
       "Estimated Total Size (MB): 0.17\n",
       "==================================================================================================================="
      ]
     },
     "execution_count": 8,
     "metadata": {},
     "output_type": "execute_result"
    }
   ],
   "source": [
    "hs = 64\n",
    "\n",
    "model = nn.Sequential(\n",
    "    nn.Linear(8, hs, bias=False),\n",
    "    Transpose(),\n",
    "    nn.ReLU6(),\n",
    "    EMA(hs, length=80),\n",
    "    Transpose(),\n",
    "    nn.ReLU6(),\n",
    "    nn.Linear(hs, 1, bias=False)\n",
    ")\n",
    "\n",
    "summary(model, (2, 80, 8), col_names=['input_size', 'output_size', 'num_params'])"
   ]
  },
  {
   "cell_type": "markdown",
   "id": "baab1e2d",
   "metadata": {},
   "source": [
    "## Train"
   ]
  },
  {
   "cell_type": "code",
   "execution_count": 9,
   "id": "f7eb6a0f",
   "metadata": {},
   "outputs": [],
   "source": [
    "from torchmetrics import MetricCollection\n",
    "from torchmetrics.classification import (\n",
    "    BinaryAccuracy,\n",
    "    BinaryAUROC\n",
    ")"
   ]
  },
  {
   "cell_type": "code",
   "execution_count": 10,
   "id": "d1c49c57",
   "metadata": {},
   "outputs": [],
   "source": [
    "# criterion\n",
    "loss_fn = nn.BCEWithLogitsLoss()\n",
    "optimizer = torch.optim.AdamW(model.parameters(), lr=1e-3, weight_decay=1e-3)\n",
    "scheduler = torch.optim.lr_scheduler.StepLR(optimizer, step_size=50, gamma=.1**.5)\n",
    "\n",
    "metric = MetricCollection({'acc':BinaryAccuracy(), 'auc':BinaryAUROC()})"
   ]
  },
  {
   "cell_type": "code",
   "execution_count": 11,
   "id": "4e8228e6",
   "metadata": {},
   "outputs": [
    {
     "name": "stdout",
     "output_type": "stream",
     "text": [
      "epoch  2 - acc: 0.8713 - auc: 0.6142\n",
      "epoch 12 - acc: 0.8862 - auc: 0.7269\n",
      "epoch 22 - acc: 0.8822 - auc: 0.8705\n",
      "epoch 32 - acc: 0.8844 - auc: 0.8996\n",
      "epoch 42 - acc: 0.8874 - auc: 0.9022\n",
      "epoch 52 - acc: 0.8883 - auc: 0.9096\n",
      "epoch 62 - acc: 0.8948 - auc: 0.9173\n",
      "epoch 72 - acc: 0.8953 - auc: 0.9194\n",
      "epoch 82 - acc: 0.9093 - auc: 0.9220\n",
      "epoch 92 - acc: 0.9199 - auc: 0.9289\n",
      "epoch 102 - acc: 0.9305 - auc: 0.9361\n",
      "epoch 112 - acc: 0.9326 - auc: 0.9327\n",
      "epoch 122 - acc: 0.9319 - auc: 0.9333\n",
      "epoch 132 - acc: 0.9320 - auc: 0.9186\n",
      "epoch 142 - acc: 0.9319 - auc: 0.9304\n",
      "epoch 152 - acc: 0.9333 - auc: 0.9348\n",
      "epoch 162 - acc: 0.9360 - auc: 0.9331\n",
      "epoch 172 - acc: 0.9346 - auc: 0.9289\n",
      "epoch 182 - acc: 0.9294 - auc: 0.9273\n",
      "epoch 192 - acc: 0.9385 - auc: 0.9409\n",
      "epoch 202 - acc: 0.9403 - auc: 0.9287\n",
      "epoch 212 - acc: 0.9334 - auc: 0.9346\n",
      "epoch 222 - acc: 0.9451 - auc: 0.9375\n",
      "epoch 232 - acc: 0.9358 - auc: 0.9253\n",
      "epoch 242 - acc: 0.9354 - auc: 0.9327\n",
      "epoch 252 - acc: 0.9342 - auc: 0.9301\n",
      "epoch 262 - acc: 0.9353 - auc: 0.9395\n",
      "epoch 272 - acc: 0.9277 - auc: 0.9298\n",
      "epoch 282 - acc: 0.9352 - auc: 0.9374\n",
      "epoch 292 - acc: 0.9368 - auc: 0.9378\n",
      "epoch 300 - acc: 0.9405 - auc: 0.9374\n"
     ]
    }
   ],
   "source": [
    "epochs = 300\n",
    "step = 0\n",
    "\n",
    "model.train()\n",
    "\n",
    "for epoch in range(epochs):\n",
    "\n",
    "    for batch, label in train_dl:\n",
    "        logit = model(batch).squeeze(-1)\n",
    "        loss = loss_fn(logit, label)\n",
    "\n",
    "        loss.backward()\n",
    "        optimizer.step()\n",
    "        optimizer.zero_grad()\n",
    "\n",
    "        proba = torch.sigmoid(logit)\n",
    "        metric.update(proba, label)\n",
    "        step += 1\n",
    "    scheduler.step()\n",
    "\n",
    "    if (epoch % 10 == 1) or (epoch==epochs-1):\n",
    "        res = metric.compute()\n",
    "        print(f'epoch {epoch+1:>2d} - acc: {res[\"acc\"]:.4f} - auc: {res[\"auc\"]:.4f}')\n",
    "        metric.reset()\n",
    "        torch.save(model.state_dict(), f'./ckpt/epoch{epoch}-{res[\"auc\"]:.4f}.pth')\n"
   ]
  },
  {
   "cell_type": "code",
   "execution_count": 12,
   "id": "681d5fb5",
   "metadata": {},
   "outputs": [
    {
     "name": "stdout",
     "output_type": "stream",
     "text": [
      "Epoch 299, lr = [1.0000000000000002e-06]\n"
     ]
    }
   ],
   "source": [
    "print(f\"Epoch {epoch}, lr = {scheduler.get_last_lr()}\")"
   ]
  },
  {
   "cell_type": "code",
   "execution_count": 15,
   "id": "68346dc9",
   "metadata": {},
   "outputs": [
    {
     "data": {
      "text/plain": [
       "Sequential(\n",
       "  (0): Linear(in_features=8, out_features=64, bias=False)\n",
       "  (1): Transpose()\n",
       "  (2): ReLU6()\n",
       "  (3): EMA(in_chn=64, length=80)\n",
       "  (4): Transpose()\n",
       "  (5): ReLU6()\n",
       "  (6): Linear(in_features=64, out_features=1, bias=False)\n",
       ")"
      ]
     },
     "execution_count": 15,
     "metadata": {},
     "output_type": "execute_result"
    }
   ],
   "source": [
    "model"
   ]
  },
  {
   "cell_type": "code",
   "execution_count": 14,
   "id": "7a3628ef",
   "metadata": {},
   "outputs": [
    {
     "data": {
      "text/plain": [
       "tensor([0.1497, 0.5854, 0.2912, 0.5000, 0.8639, 0.2013, 0.4864, 0.5199, 0.6250,\n",
       "        0.4718, 0.9034, 0.8661, 0.5589, 0.5672, 0.8898, 0.5437, 0.2005, 0.6158,\n",
       "        0.5408, 0.0230, 0.9072, 0.4784, 0.8509, 0.4257, 0.5043, 0.8145, 0.1796,\n",
       "        0.5348, 0.8724, 0.5836, 0.5419, 0.8934, 0.5584, 0.9504, 0.6122, 0.9176,\n",
       "        0.2484, 0.4015, 0.7118, 0.1777, 0.6884, 0.2774, 0.5411, 0.6919, 0.4585,\n",
       "        0.4447, 0.4474, 0.3540, 0.4767, 0.4748, 0.8927, 0.8342, 0.8278, 0.6744,\n",
       "        0.9054, 0.6385, 0.6868, 0.5670, 0.3053, 0.5882, 0.8954, 0.7668, 0.2954,\n",
       "        0.6239])"
      ]
     },
     "execution_count": 14,
     "metadata": {},
     "output_type": "execute_result"
    }
   ],
   "source": [
    "model[3].alpha.data.flatten()"
   ]
  },
  {
   "cell_type": "code",
   "execution_count": 16,
   "id": "83117dda",
   "metadata": {},
   "outputs": [
    {
     "data": {
      "text/plain": [
       "Parameter containing:\n",
       "tensor([[0.5236, 1.0781, 0.3415, 0.5092, 0.1020, 0.4146, 0.7162, 0.4957, 0.4507,\n",
       "         0.7981, 0.2238, 0.8494, 1.2850, 1.1344, 0.5370, 0.5817, 0.9354, 0.3309,\n",
       "         0.5652, 0.2499, 0.7896, 1.5405, 0.1193, 0.8971, 1.2342, 0.6317, 0.8746,\n",
       "         0.0140, 0.2358, 1.0745, 0.7006, 0.5269, 0.4790, 0.7471, 1.0356, 0.9406,\n",
       "         1.1657, 1.1054, 0.9245, 0.1913, 0.1525, 0.4900, 1.2108, 0.7885, 1.1727,\n",
       "         0.0103, 1.2253, 0.5801, 0.1386, 0.5358, 0.3456, 0.4349, 0.8747, 1.0210,\n",
       "         1.0829, 0.6584, 1.1456, 0.8914, 0.1315, 0.1847, 1.1154, 1.1015, 1.3611,\n",
       "         0.4635]], requires_grad=True)"
      ]
     },
     "execution_count": 16,
     "metadata": {},
     "output_type": "execute_result"
    }
   ],
   "source": [
    "model[3].x0"
   ]
  },
  {
   "cell_type": "code",
   "execution_count": 17,
   "id": "af8252c9",
   "metadata": {},
   "outputs": [
    {
     "data": {
      "text/plain": [
       "Parameter containing:\n",
       "tensor([[ 8.6219e-02,  8.6647e-01,  4.4120e-01,  4.8139e-01,  1.7514e-01,\n",
       "          1.0891e-02, -1.2926e-01,  1.3097e-01],\n",
       "        [-7.8895e-02,  9.4671e-02,  3.1408e-01, -1.6057e-02, -1.5108e-01,\n",
       "         -7.8588e-02, -2.7550e-01, -9.8469e-02],\n",
       "        [ 2.7193e-01, -1.1324e-01, -6.7713e-01, -4.9525e-01, -1.3370e-02,\n",
       "         -2.5066e-01, -4.5309e-01,  2.8976e-01],\n",
       "        [ 1.1430e-01,  2.0001e-01,  7.0208e-01,  7.2217e-01,  2.5706e-01,\n",
       "         -8.1588e-02,  4.5865e-01,  2.4405e-02],\n",
       "        [ 6.6334e-02, -4.1747e-01, -3.7110e-01, -1.5670e+00,  3.6219e-01,\n",
       "         -4.4633e-01,  6.2172e-02,  2.8601e-02],\n",
       "        [ 4.2632e-02,  2.0036e-01,  7.3452e-02,  1.4585e-01,  2.2702e-01,\n",
       "         -3.3384e-01, -3.6467e-02,  4.9955e-02],\n",
       "        [ 2.8507e-03, -3.5115e-01, -2.0289e-01, -3.0688e-01, -2.8920e-01,\n",
       "         -2.0242e-01, -3.3103e-01,  1.3393e-01],\n",
       "        [ 1.1236e-01,  8.9976e-01,  1.0464e+00,  1.3387e-01, -2.4479e-01,\n",
       "          7.5734e-01,  4.7120e-01,  3.0540e-01],\n",
       "        [-9.5935e-02,  2.3484e-01, -8.2724e-02, -2.7064e-01, -1.7425e-01,\n",
       "         -1.2233e-01,  1.7189e-01,  3.3891e-01],\n",
       "        [-3.2618e-01,  2.8331e-01, -3.4332e-01,  2.5043e-01, -2.1994e-01,\n",
       "          9.7362e-02,  8.0578e-02, -3.0842e-01],\n",
       "        [ 2.2329e-01, -3.7842e-01,  1.0940e-01,  2.1344e-01, -1.8689e-01,\n",
       "          1.4217e-01, -7.6183e-02,  4.0548e-02],\n",
       "        [ 5.7012e-02, -3.0730e-01, -7.1314e-01, -1.3322e+00,  3.2923e-01,\n",
       "         -1.2658e-01, -3.1262e-01, -2.2156e-01],\n",
       "        [ 2.8268e-01,  4.0997e-01,  8.3782e-01,  7.4583e-01, -2.5032e-01,\n",
       "          1.2218e-01,  6.0654e-02, -3.8639e-02],\n",
       "        [ 4.7516e-02,  3.2943e-01,  6.5860e-01,  6.5492e-01,  3.9071e-01,\n",
       "          3.4549e-01, -1.3336e-01, -2.6816e-01],\n",
       "        [ 3.8707e-02,  5.8932e-01,  9.5488e-01, -2.7885e-01, -1.2230e-01,\n",
       "          1.9623e-01,  4.4457e-01,  3.5927e-01],\n",
       "        [-6.0823e-02,  1.0897e-01, -2.6135e-02,  1.3049e-01, -1.4240e-01,\n",
       "         -2.0379e-01, -1.7808e-01, -1.8470e-01],\n",
       "        [ 1.9102e-01,  3.2610e-01,  9.0339e-01,  6.6913e-01, -1.2692e-01,\n",
       "          2.5188e-01,  2.0060e-01,  1.5407e-02],\n",
       "        [ 3.3502e-01,  6.8398e-02,  1.4896e-01,  6.9622e-01, -9.4049e-02,\n",
       "          3.2784e-01, -1.9088e-01,  3.8012e-01],\n",
       "        [-1.6659e-01,  2.8916e-01, -1.9222e-01,  8.9426e-02, -1.4499e-02,\n",
       "          9.1753e-02, -2.7050e-01,  1.5764e-01],\n",
       "        [ 2.1459e-01, -1.3789e-01,  3.7346e-03,  2.2994e-01, -6.9295e-02,\n",
       "         -1.5241e-01, -3.2049e-01, -1.3343e-01],\n",
       "        [-1.8116e-01,  9.7223e-01,  9.9166e-01,  8.9134e-01,  1.6281e-01,\n",
       "          4.9286e-01,  3.9464e-01, -5.0629e-02],\n",
       "        [-2.0694e-01,  1.4720e-01,  3.0373e-01, -2.4435e-02, -2.3883e-01,\n",
       "         -1.4311e-01,  1.5774e-01, -1.0127e-01],\n",
       "        [-5.8163e-02, -3.3263e-01, -8.1199e-03, -1.4235e+00,  4.9540e-01,\n",
       "         -4.5520e-02,  1.4289e-01,  9.4499e-02],\n",
       "        [ 1.5551e-01, -1.3867e-02, -3.2398e-02, -4.3528e-02,  8.0074e-02,\n",
       "          2.0624e-01,  4.3889e-01, -2.4115e-01],\n",
       "        [ 3.5072e-01,  4.0869e-01,  1.0746e-02,  3.3752e-01,  1.1378e-01,\n",
       "          1.8691e-01,  9.6958e-02,  1.8708e-01],\n",
       "        [ 1.2121e-01,  3.6546e-01,  3.9855e-01,  4.5117e-01,  1.5480e-01,\n",
       "          3.3768e-01,  2.3349e-01,  3.5485e-01],\n",
       "        [ 2.2666e-01,  6.8252e-01,  3.7753e-01,  5.6099e-01,  2.9113e-01,\n",
       "         -2.8524e-02, -1.2214e-01, -2.0518e-01],\n",
       "        [ 1.8729e-01, -1.2521e-01, -5.5217e-01,  5.2570e-01, -4.6601e-01,\n",
       "         -4.1494e-01,  2.1040e-01,  2.5264e-01],\n",
       "        [-4.7396e-03,  7.2336e-01,  6.7306e-01,  8.9227e-01, -6.6270e-02,\n",
       "          7.1529e-01,  5.2355e-01,  4.0902e-01],\n",
       "        [-3.1613e-02, -9.3435e-02, -9.4627e-02,  1.2106e-01, -3.1464e-01,\n",
       "         -2.1103e-01, -2.0947e-02, -2.7893e-01],\n",
       "        [-2.4536e-01, -1.0940e-03, -3.2168e-01, -1.6357e-01,  3.8425e-02,\n",
       "          3.3337e-01, -1.5864e-01, -3.4951e-01],\n",
       "        [ 1.1960e-01, -2.7632e-01, -2.1059e-02,  4.8436e-01, -3.5089e-01,\n",
       "          1.2701e-01, -2.6844e-01,  3.1597e-01],\n",
       "        [-1.2737e-01, -3.3886e-01, -3.5997e-01, -2.0399e-01,  5.9782e-02,\n",
       "         -2.7999e-01,  2.6589e-02,  4.1861e-02],\n",
       "        [ 3.8589e-01, -2.1438e-01, -4.0730e-01,  9.2399e-02,  1.4244e-02,\n",
       "         -3.1726e-01, -4.1720e-01, -7.2905e-02],\n",
       "        [ 4.0409e-02,  3.5870e-01,  3.6248e-01,  5.3917e-01,  1.6976e-01,\n",
       "          1.2412e-01, -2.0112e-02,  1.5514e-01],\n",
       "        [-2.5677e-01,  7.1269e-01,  6.4659e-01,  9.4666e-01,  3.1743e-01,\n",
       "          1.0868e-01,  4.2076e-01,  1.1542e-01],\n",
       "        [ 3.2934e-01,  3.7083e-01,  6.5475e-01,  4.0822e-01, -2.0568e-01,\n",
       "          4.4368e-01,  3.4076e-01,  2.8537e-01],\n",
       "        [ 3.1236e-01,  4.3684e-02, -8.5993e-03,  4.0187e-01,  3.2574e-01,\n",
       "          3.1609e-01, -8.4471e-02,  9.0046e-02],\n",
       "        [ 3.0204e-01, -3.2506e-02,  2.7813e-01,  5.3536e-01,  3.6275e-01,\n",
       "          4.7819e-01,  3.5790e-01, -1.7428e-01],\n",
       "        [ 3.1528e-01,  1.5338e-02,  1.0902e-03, -5.0201e-02, -6.8651e-02,\n",
       "         -7.3353e-02,  2.6827e-01, -1.4495e-01],\n",
       "        [ 2.1624e-01, -4.8441e-01, -3.7544e-01,  3.3914e-01, -4.3865e-01,\n",
       "         -2.4277e-01, -2.4337e-03, -2.0786e-01],\n",
       "        [-2.0048e-01,  4.6678e-01, -1.2452e-01,  6.5087e-01,  2.9369e-01,\n",
       "          4.1380e-01, -6.1167e-02, -3.7193e-01],\n",
       "        [ 1.9869e-03,  6.3355e-01,  4.7847e-01,  1.7711e-01,  1.6386e-01,\n",
       "          1.9381e-01, -8.3925e-02, -3.8090e-02],\n",
       "        [ 9.9824e-02,  8.1399e-01,  7.5398e-01,  6.7786e-02, -1.8889e-01,\n",
       "          1.4518e-01,  4.7825e-01,  2.3109e-01],\n",
       "        [-2.9376e-03,  6.0968e-01,  7.8117e-01,  4.5426e-01,  2.1279e-02,\n",
       "          3.8551e-01,  1.8325e-02,  2.6500e-01],\n",
       "        [ 5.1035e-02, -3.5868e-02, -5.6923e-01, -8.2472e-01,  1.8052e-01,\n",
       "         -2.1354e-01, -2.3236e-01,  3.8527e-01],\n",
       "        [-1.2209e-01,  2.0863e-01,  5.8712e-01,  6.3409e-01,  2.1409e-01,\n",
       "          1.1842e-01,  8.8769e-02, -3.5742e-01],\n",
       "        [-2.1618e-01,  7.5612e-01,  6.7463e-01,  5.2666e-01,  3.2180e-01,\n",
       "          6.6840e-01,  3.6078e-01,  2.6418e-01],\n",
       "        [ 2.6938e-01,  1.2518e-01, -5.1054e-01, -2.1242e-02, -4.5551e-01,\n",
       "         -4.1526e-01, -2.9984e-01, -4.0234e-02],\n",
       "        [ 2.1172e-01,  4.4260e-01,  1.4525e-01,  3.4235e-01,  2.4733e-01,\n",
       "          4.2799e-02,  1.7549e-01, -3.1011e-01],\n",
       "        [ 3.6369e-01, -3.4058e-01, -4.3060e-01, -6.3361e-01, -5.8226e-02,\n",
       "         -1.7432e-01, -6.4120e-02,  2.9728e-01],\n",
       "        [ 2.8554e-01, -2.9266e-02,  7.5514e-02, -5.2230e-01,  1.5193e-01,\n",
       "         -1.9086e-01, -5.1109e-03, -2.0134e-01],\n",
       "        [ 3.8288e-02, -4.4770e-02,  1.8086e-01,  3.8654e-01,  2.8607e-01,\n",
       "          3.3211e-02,  1.7913e-01, -3.2522e-01],\n",
       "        [-3.7031e-02,  8.4962e-01,  2.8947e-01,  6.7274e-01,  5.3354e-02,\n",
       "          1.6338e-01,  1.3606e-01, -4.0287e-02],\n",
       "        [ 3.1720e-01, -1.7277e-01, -9.6801e-02, -4.5426e-01, -4.8526e-02,\n",
       "         -3.5518e-01, -3.4821e-01, -4.4102e-01],\n",
       "        [ 2.8058e-01,  2.3492e-01,  2.2989e-01,  1.4925e-01, -2.2479e-01,\n",
       "          7.4343e-02,  2.0746e-01,  3.2800e-01],\n",
       "        [ 1.9835e-01,  6.8000e-01,  5.2178e-01,  3.1238e-01, -2.6685e-01,\n",
       "          3.4224e-01,  1.0245e-02, -7.2093e-02],\n",
       "        [-6.5703e-02, -1.8818e-01, -2.6494e-03,  1.2234e-01, -8.2854e-02,\n",
       "          1.3803e-01,  2.7777e-02, -3.3513e-01],\n",
       "        [-2.3851e-01,  2.7672e-01, -3.0484e-01,  2.8417e-01, -1.1057e-01,\n",
       "         -3.0571e-01,  2.9324e-01, -6.9503e-02],\n",
       "        [-2.3910e-01, -2.4748e-01, -7.8578e-02, -4.0657e-02, -4.5006e-02,\n",
       "         -3.5030e-01,  3.2463e-01, -1.6469e-01],\n",
       "        [ 1.4659e-01, -2.0044e-01, -1.0395e-02,  4.5938e-01, -3.6952e-01,\n",
       "         -1.9559e-01, -3.7854e-01,  2.9170e-01],\n",
       "        [ 9.1495e-02,  5.7180e-01,  5.6180e-01,  4.8266e-01,  3.2404e-02,\n",
       "          4.0552e-01,  5.6282e-02,  1.2903e-01],\n",
       "        [ 1.3163e-01,  4.9335e-01,  4.9282e-01,  5.7112e-01,  1.6032e-01,\n",
       "         -2.1098e-02, -1.4711e-02,  4.5071e-02],\n",
       "        [-1.6000e-01,  9.3839e-02, -2.8436e-01, -1.2738e-01, -2.9482e-01,\n",
       "          2.2705e-01, -1.7419e-01, -8.5909e-02]], requires_grad=True)"
      ]
     },
     "execution_count": 17,
     "metadata": {},
     "output_type": "execute_result"
    }
   ],
   "source": [
    "model[0].weight"
   ]
  },
  {
   "cell_type": "code",
   "execution_count": 18,
   "id": "0770149c",
   "metadata": {},
   "outputs": [
    {
     "data": {
      "text/plain": [
       "Parameter containing:\n",
       "tensor([[ 0.0986,  0.2171, -0.2197,  0.2186, -0.6705, -0.0386,  0.7038,  0.4469,\n",
       "          0.1479,  0.4008, -0.0671, -0.6016,  0.1744,  0.1328,  0.5334,  0.3945,\n",
       "          0.2411,  0.1457,  0.0695, -0.0257,  0.4947,  0.5914, -0.4542,  0.0302,\n",
       "          0.1464,  0.1731,  0.1242, -0.4306,  0.5270,  0.1888,  0.3692, -0.4161,\n",
       "          0.3582, -0.1187,  0.1349,  0.6904,  0.1906,  0.0952,  0.1687, -0.0470,\n",
       "         -0.4459,  0.3469,  0.0778,  0.3535,  0.2238, -0.4459,  0.3884,  0.4083,\n",
       "         -0.1444,  0.0720, -0.3274, -0.0958,  0.0224,  0.3410, -0.1821,  0.1117,\n",
       "          0.1700,  0.2106,  0.0649,  0.3319, -0.3149,  0.1729,  0.1013,  0.1694]],\n",
       "       requires_grad=True)"
      ]
     },
     "execution_count": 18,
     "metadata": {},
     "output_type": "execute_result"
    }
   ],
   "source": [
    "model[6].weight"
   ]
  }
 ],
 "metadata": {
  "kernelspec": {
   "display_name": "py311",
   "language": "python",
   "name": "python3"
  },
  "language_info": {
   "codemirror_mode": {
    "name": "ipython",
    "version": 3
   },
   "file_extension": ".py",
   "mimetype": "text/x-python",
   "name": "python",
   "nbconvert_exporter": "python",
   "pygments_lexer": "ipython3",
   "version": "3.11.11"
  }
 },
 "nbformat": 4,
 "nbformat_minor": 5
}
