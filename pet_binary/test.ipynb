{
 "cells": [
  {
   "cell_type": "markdown",
   "id": "a6ea87bb",
   "metadata": {},
   "source": [
    "## Infer"
   ]
  },
  {
   "cell_type": "code",
   "execution_count": 1,
   "id": "d77b4dc5-58bd-46b9-a011-6cffc180b4f5",
   "metadata": {},
   "outputs": [],
   "source": [
    "import torch\n",
    "import torch.nn as nn\n"
   ]
  },
  {
   "cell_type": "code",
   "execution_count": 2,
   "id": "b3987a22",
   "metadata": {},
   "outputs": [],
   "source": [
    "path = 'ckpt/test/epoch21-0.8867.pth'\n",
    "ckpt = torch.load(path)"
   ]
  },
  {
   "cell_type": "code",
   "execution_count": null,
   "id": "c0c07f25",
   "metadata": {},
   "outputs": [],
   "source": [
    "class Net(nn.Module):\n",
    "    \"\"\"Network inference\n",
    "    \"\"\"\n",
    "    def __init__(self):\n",
    "        super().__init__()\n",
    "        self.i_proj = nn.Linear(8, 64, False)\n",
    "        self.alpha = nn.Parameter(torch.rand(64))\n",
    "        self.h0 = nn.Parameter(torch.rand(1, 64))\n",
    "        self.o_proj = nn.Linear(64, 1, False)\n",
    "        self.act = nn.ReLU6()\n",
    "        self.load()\n",
    "\n",
    "    @torch.no_grad()\n",
    "    def load(self):\n",
    "        path = 'ckpt/test/epoch21-0.8867.pth'\n",
    "        ckpt = torch.load(path)\n",
    "\n",
    "        self.i_proj.weight.copy_(ckpt['0.weight'])\n",
    "        self.alpha.copy_(ckpt['3.alpha'].squeeze([1, 2]))\n",
    "        self.h0.copy_(ckpt['3.x0'] * (1-self.alpha))\n",
    "        self.o_proj.weight.copy_(ckpt['6.weight'])\n",
    "\n",
    "    @torch.no_grad()\n",
    "    def forward(self, x, hx=None):\n",
    "        g = self.alpha\n",
    "        act = self.act\n",
    "        i = act(self.i_proj(x))\n",
    "        if hx is None:\n",
    "            hx = self.h0\n",
    "        h = g * hx + (1 - g) * i\n",
    "        y = self.o_proj(act(h))\n",
    "        return y, h\n"
   ]
  },
  {
   "cell_type": "code",
   "execution_count": 9,
   "id": "057eaebe",
   "metadata": {},
   "outputs": [],
   "source": [
    "net = Net()"
   ]
  },
  {
   "cell_type": "code",
   "execution_count": 13,
   "id": "0c8e3cd2",
   "metadata": {},
   "outputs": [],
   "source": [
    "x = torch.tensor([[4.882802, 0.4116477, 0.2582662, 1.1432298, 0.34995735, 0.15397726, 0.07350865, 0.]])"
   ]
  },
  {
   "cell_type": "code",
   "execution_count": null,
   "id": "000eb3ed",
   "metadata": {},
   "outputs": [],
   "source": [
    "y, h = net(x)\n",
    "y"
   ]
  },
  {
   "cell_type": "code",
   "execution_count": 17,
   "id": "e70940a5",
   "metadata": {},
   "outputs": [],
   "source": [
    "x = torch.tensor([[3.9512436 , 0.4121284 , 0.57202524, 0.9942352 , 0.38036877, 0.11640994, 0.07208236, 0.08725858]])"
   ]
  },
  {
   "cell_type": "code",
   "execution_count": 18,
   "id": "d1f5eccd",
   "metadata": {},
   "outputs": [
    {
     "data": {
      "text/plain": [
       "tensor([[2.5762]])"
      ]
     },
     "execution_count": 18,
     "metadata": {},
     "output_type": "execute_result"
    }
   ],
   "source": [
    "y, h = net(x, h)\n",
    "y"
   ]
  },
  {
   "cell_type": "markdown",
   "id": "6e0144a0",
   "metadata": {},
   "source": [
    "## ONNX"
   ]
  },
  {
   "cell_type": "code",
   "execution_count": 26,
   "id": "2f7da4c8",
   "metadata": {},
   "outputs": [
    {
     "name": "stderr",
     "output_type": "stream",
     "text": [
      "C:\\Users\\pontosense\\AppData\\Local\\Temp\\ipykernel_19472\\3137836516.py:3: DeprecationWarning: You are using the legacy TorchScript-based ONNX export. Starting in PyTorch 2.9, the new torch.export-based ONNX exporter will be the default. To switch now, set dynamo=True in torch.onnx.export. This new exporter supports features like exporting LLMs with DynamicCache. We encourage you to try it and share feedback to help improve the experience. Learn more about the new export logic: https://pytorch.org/docs/stable/onnx_dynamo.html. For exporting control flow: https://pytorch.org/tutorials/beginner/onnx/export_control_flow_model_to_onnx_tutorial.html.\n",
      "  torch.onnx.export(\n"
     ]
    }
   ],
   "source": [
    "dummy = (torch.randn(1, 8), torch.randn(1, 64))  # 替换成你的真实输入尺寸\n",
    "\n",
    "torch.onnx.export(\n",
    "    net,\n",
    "    dummy, 'test/model.onnx',\n",
    "    input_names=['input', 'hx'],\n",
    "    output_names=['output', 'hy'],\n",
    "    opset_version=13\n",
    ")"
   ]
  },
  {
   "cell_type": "code",
   "execution_count": 28,
   "id": "f1097fac",
   "metadata": {},
   "outputs": [],
   "source": [
    "import onnx, onnxruntime as ort, numpy as np\n",
    "\n",
    "# onnx_model = onnx.load('test/model.onnx')\n",
    "# onnx.checker.check_model(onnx_model)\n",
    "\n",
    "sess = ort.InferenceSession('test/model.onnx', providers=[\"CPUExecutionProvider\"])\n",
    "out = sess.run(None, {'input': dummy[0].numpy(), 'hx': dummy[1].numpy()})\n",
    "# 与 PyTorch 输出比较\n",
    "# pt_out = net(dummy).detach().numpy()\n",
    "# print(np.max(np.abs(out - pt_out)))"
   ]
  },
  {
   "cell_type": "code",
   "execution_count": 30,
   "id": "21b06f20",
   "metadata": {},
   "outputs": [
    {
     "data": {
      "text/plain": [
       "(tensor([[0.2246]]),\n",
       " tensor([[-0.0215, -0.8248,  0.0657,  0.0301,  0.4198, -0.3752,  0.4744,  0.0853,\n",
       "          -0.4335, -0.0017,  1.3332,  0.3892, -0.1745,  0.1359, -0.9661, -0.2100,\n",
       "           0.0559,  0.4735, -0.8220,  0.1195,  0.0377, -0.1647,  0.8174,  0.0791,\n",
       "          -0.4159, -0.3635, -0.0192,  0.1987, -0.8256,  0.2248, -0.2913,  0.5854,\n",
       "           0.4149, -0.6019,  0.0531, -0.1081,  0.2635,  0.0284,  1.6606,  0.0615,\n",
       "           0.1233, -0.0058, -0.1948,  0.9033,  0.0801,  0.0900,  0.1275,  0.4002,\n",
       "           0.0910, -0.4605,  1.2778, -0.3346, -1.0528,  0.0038, -1.6449,  0.4506,\n",
       "           0.3029, -0.7454, -0.0880, -0.0716,  1.0241, -0.1311,  0.0194, -0.6278]]))"
      ]
     },
     "execution_count": 30,
     "metadata": {},
     "output_type": "execute_result"
    }
   ],
   "source": [
    "net(*dummy)"
   ]
  },
  {
   "cell_type": "code",
   "execution_count": 29,
   "id": "31bb5541",
   "metadata": {},
   "outputs": [
    {
     "data": {
      "text/plain": [
       "[array([[0.22462046]], dtype=float32),\n",
       " array([[-0.02149462, -0.8247864 ,  0.065715  ,  0.03011797,  0.41984096,\n",
       "         -0.37517273,  0.47437143,  0.08528044, -0.4335284 , -0.0017328 ,\n",
       "          1.333152  ,  0.38923585, -0.17446381,  0.13587855, -0.96608984,\n",
       "         -0.21001492,  0.05589665,  0.47351813, -0.8220247 ,  0.11953185,\n",
       "          0.03770047, -0.16471067,  0.81736815,  0.07914691, -0.4159286 ,\n",
       "         -0.36345395, -0.0192393 ,  0.1987017 , -0.82560915,  0.22475633,\n",
       "         -0.29132307,  0.5853786 ,  0.41486594, -0.6019309 ,  0.05312075,\n",
       "         -0.10809331,  0.26349932,  0.02837995,  1.660605  ,  0.06152598,\n",
       "          0.12331674, -0.00579717, -0.1947561 ,  0.9032636 ,  0.08008309,\n",
       "          0.09000917,  0.12745585,  0.4002468 ,  0.09102561, -0.46048966,\n",
       "          1.2777627 , -0.3346157 , -1.0528045 ,  0.00380314, -1.6448549 ,\n",
       "          0.45057708,  0.30287167, -0.74543256, -0.08795726, -0.07163236,\n",
       "          1.0241157 , -0.13109833,  0.01939382, -0.6278176 ]],\n",
       "       dtype=float32)]"
      ]
     },
     "execution_count": 29,
     "metadata": {},
     "output_type": "execute_result"
    }
   ],
   "source": [
    "out"
   ]
  },
  {
   "cell_type": "code",
   "execution_count": 23,
   "id": "923326ce",
   "metadata": {},
   "outputs": [
    {
     "data": {
      "text/plain": [
       "array([[1.3314825]], dtype=float32)"
      ]
     },
     "execution_count": 23,
     "metadata": {},
     "output_type": "execute_result"
    }
   ],
   "source": [
    "out"
   ]
  }
 ],
 "metadata": {
  "kernelspec": {
   "display_name": "py311",
   "language": "python",
   "name": "python3"
  },
  "language_info": {
   "codemirror_mode": {
    "name": "ipython",
    "version": 3
   },
   "file_extension": ".py",
   "mimetype": "text/x-python",
   "name": "python",
   "nbconvert_exporter": "python",
   "pygments_lexer": "ipython3",
   "version": "3.11.11"
  }
 },
 "nbformat": 4,
 "nbformat_minor": 5
}
